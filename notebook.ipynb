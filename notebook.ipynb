{
 "cells": [
  {
   "cell_type": "code",
   "execution_count": 2,
   "metadata": {},
   "outputs": [],
   "source": [
    "import jax\n",
    "from jax import numpy as jnp, jit, vmap, random\n",
    "from jaxmarl import make\n",
    "from jaxmarl.environments.smax import map_name_to_scenario\n",
    "from jaxmarl.environments.smax.smax_env import State as SMAXState  # use to unstack state carry from lax scan\n",
    "from jaxmarl.environments.smax.heuristic_enemy import HeuristicPolicyState as EnemyState\n",
    "from jaxmarl.environments.smax.heuristic_enemy_smax_env import State as State\n",
    "\n",
    "from functional import partial\n",
    "import numpy as np\n",
    "from PIL import Image\n",
    "import matplotlib.pyplot as plt\n",
    "from copy import deepcopy\n",
    "\n",
    "import esch"
   ]
  },
  {
   "cell_type": "markdown",
   "metadata": {},
   "source": [
    "## Environment"
   ]
  },
  {
   "cell_type": "code",
   "execution_count": 3,
   "metadata": {},
   "outputs": [],
   "source": [
    "def make_vtraj(config):  # returns a function that runs n_envs environments in parallel. Current actions are random.\n",
    "    env = make(config['env'], **config['env_config'])\n",
    "    config['n_agents'] = env.num_agents * config['n_envs']\n",
    "\n",
    "    def init_runner_state(key):\n",
    "        key, key_reset = random.split(key)\n",
    "        key_reset      = random.split(key_reset, config['n_envs'])\n",
    "        obsv, state    = vmap(env.reset)(key_reset)\n",
    "        return (state, obsv, key)\n",
    "\n",
    "    def env_step(runner_state, seqs):\n",
    "        env_state, last_obs, key = runner_state   # random key for sampling actions\n",
    "        key, key_act             = random.split(key)\n",
    "\n",
    "        key_act = random.split(key_act, config['n_agents']).reshape((env.num_agents, config['n_envs'], -1))\n",
    "        # this is the line we wanna inject the action into from.\n",
    "        actions = {agent: vmap(env.action_space(agent).sample)(key_act[i]) for i, agent in enumerate(env.agents)}\n",
    "\n",
    "        key, key_step = random.split(key)\n",
    "        key_step      = random.split(key_step, config['n_envs'])\n",
    "\n",
    "        obsv, env_state, reward, done, infos = vmap(env.step)(key_step, env_state, actions)\n",
    "        return (env_state, obsv, key), (key_step, env_state, actions)  # reward)\n",
    "\n",
    "\n",
    "\n",
    "    def vtraj_fn(key):\n",
    "        key, key_init       = random.split(key)\n",
    "        runner_state        = init_runner_state(key_init)\n",
    "        # scan :: (c -> a -> (c, b)) -> c -> [a] -> (c, [b])\n",
    "        runner_state, hist = jax.lax.scan(env_step, runner_state, None, length=config['max_steps'])\n",
    "        return runner_state, hist\n",
    "\n",
    "    return vtraj_fn, env"
   ]
  },
  {
   "cell_type": "code",
   "execution_count": 4,
   "metadata": {},
   "outputs": [],
   "source": [
    "map_name       = '8m'\n",
    "config         = {\"max_steps\": 100, \"n_envs\": 9, \"env\": \"HeuristicEnemySMAX\", \"env_config\": {'scenario': map_name_to_scenario(map_name)}}\n",
    "vtraj_fn, env  = make_vtraj(config)\n",
    "vtraj          = jit(vtraj_fn)"
   ]
  },
  {
   "cell_type": "code",
   "execution_count": 5,
   "metadata": {},
   "outputs": [],
   "source": [
    "rng, key                = random.split(random.PRNGKey(0))\n",
    "(state, obs, key), hist = vtraj(key)"
   ]
  },
  {
   "cell_type": "code",
   "execution_count": 31,
   "metadata": {},
   "outputs": [],
   "source": [
    "def expand_state_seq_fn(env, hist):\n",
    "    xs = []\n",
    "    for i in range(config['n_envs']):\n",
    "        state = SMAXState(\n",
    "            unit_positions=hist[1].state.unit_positions[i, :],\n",
    "            unit_types=hist[1].state.unit_types[i, :],\n",
    "            unit_teams=hist[1].state.unit_teams[i, :],\n",
    "            unit_health=hist[1].state.unit_health[i, :],\n",
    "            unit_weapon_cooldowns=hist[1].state.unit_weapon_cooldowns[i, :],\n",
    "            prev_actions=hist[1].state.prev_actions[i, :],\n",
    "            time=hist[1].state.time[i],\n",
    "            terminal=hist[1].state.terminal[i],\n",
    "            unit_alive=hist[1].state.unit_alive[i, :]\n",
    "        )\n",
    "        state = State(\n",
    "            state=state,\n",
    "            enemy_policy_state=EnemyState(\n",
    "                default_target=hist[1].enemy_policy_state.default_target[i],\n",
    "                last_attacked_enemy=hist[1].enemy_policy_state.last_attacked_enemy[i]\n",
    "            )\n",
    "        )\n",
    "        action = {\n",
    "            ally: actions[i] for ally, actions in hist[2].items()\n",
    "        }\n",
    "        xs.append((hist[0][i], state, action))\n",
    "    return vmap(env.expand_state_seq)(xs)\n",
    "\n",
    "seq = expand_state_seq_fn(env, hist)"
   ]
  },
  {
   "cell_type": "markdown",
   "metadata": {},
   "source": [
    "## behavior tree"
   ]
  },
  {
   "cell_type": "code",
   "execution_count": 28,
   "metadata": {},
   "outputs": [
    {
     "data": {
      "text/plain": [
       "\" \\n# Define a basic action node\\ndef leaf_fn(state, condition):\\n    return jnp.array(state[0] > state[1]), state\\n\\n# Define a selector node (returns success if any child succeeds)\\ndef node_fn(nodes, state, kind='selector'):\\n    # success, state = [leaf(s) for leaf, s in zip(nodes, state)], []\\n    # vmap over nodes and states\\n    return success, state  # jnp.any(success), state if kind == 'selector' else jnp.all(success), state\\n\\n# Example usage\\ndef tree_fn(state):\\n    return node_fn([leaf_fn for _ in range(config['n_agents'])], state)\\n    \\nkey, key_init  = random.split(key)\\nkey_init       = random.split(key_init, config['n_agents'])\\nsuccess, state = tree_fn(key_init)\\nsuccess \""
      ]
     },
     "execution_count": 28,
     "metadata": {},
     "output_type": "execute_result"
    }
   ],
   "source": [
    "\"\"\" \n",
    "# Define a basic action node\n",
    "def leaf_fn(state, condition):\n",
    "    return jnp.array(state[0] > state[1]), state\n",
    "\n",
    "# Define a selector node (returns success if any child succeeds)\n",
    "def node_fn(nodes, state, kind='selector'):\n",
    "    # success, state = [leaf(s) for leaf, s in zip(nodes, state)], []\n",
    "    # vmap over nodes and states\n",
    "    return success, state  # jnp.any(success), state if kind == 'selector' else jnp.all(success), state\n",
    "\n",
    "# Example usage\n",
    "def tree_fn(state):\n",
    "    return node_fn([leaf_fn for _ in range(config['n_agents'])], state)\n",
    "    \n",
    "key, key_init  = random.split(key)\n",
    "key_init       = random.split(key_init, config['n_agents'])\n",
    "success, state = tree_fn(key_init)\n",
    "success \"\"\""
   ]
  },
  {
   "cell_type": "code",
   "execution_count": 32,
   "metadata": {},
   "outputs": [
    {
     "data": {
      "text/plain": [
       "72"
      ]
     },
     "execution_count": 32,
     "metadata": {},
     "output_type": "execute_result"
    }
   ],
   "source": [
    "len(seq)"
   ]
  },
  {
   "cell_type": "code",
   "execution_count": null,
   "metadata": {},
   "outputs": [],
   "source": []
  }
 ],
 "metadata": {
  "kernelspec": {
   "display_name": "Python 3",
   "language": "python",
   "name": "python3"
  },
  "language_info": {
   "codemirror_mode": {
    "name": "ipython",
    "version": 3
   },
   "file_extension": ".py",
   "mimetype": "text/x-python",
   "name": "python",
   "nbconvert_exporter": "python",
   "pygments_lexer": "ipython3",
   "version": "3.11.7"
  }
 },
 "nbformat": 4,
 "nbformat_minor": 2
}
