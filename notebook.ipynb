{
 "cells": [
  {
   "cell_type": "code",
   "execution_count": 1,
   "metadata": {},
   "outputs": [],
   "source": [
    "import jax\n",
    "from jax import numpy as jnp, jit, vmap, random\n",
    "from jaxmarl import make\n",
    "from jaxmarl.environments.smax import map_name_to_scenario\n",
    "\n",
    "import ollama\n",
    "\n",
    "import numpy as np\n",
    "from PIL import Image\n",
    "import matplotlib.pyplot as plt\n",
    "\n",
    "import esch"
   ]
  },
  {
   "cell_type": "markdown",
   "metadata": {},
   "source": [
    "## Environment"
   ]
  },
  {
   "cell_type": "code",
   "execution_count": 2,
   "metadata": {},
   "outputs": [],
   "source": [
    "def make_vtraj(config):  # returns a function that runs n_envs environments in parallel. Current actions are random.\n",
    "    env = make(config['env'], **config['env_config'])\n",
    "    config['n_agents'] = env.num_agents * config['n_envs']\n",
    "\n",
    "    def init_runner_state(key):\n",
    "        key, key_reset = random.split(key)\n",
    "        key_reset      = random.split(key_reset, config['n_envs'])\n",
    "        obsv, state    = vmap(env.reset)(key_reset)\n",
    "        return (state, obsv, key)\n",
    "\n",
    "    def env_step(runner_state, seqs):\n",
    "        env_state, last_obs, key = runner_state   # random key for sampling actions\n",
    "        key, key_act             = random.split(key)\n",
    "\n",
    "        key_act = random.split(key_act, config['n_agents']).reshape((env.num_agents, config['n_envs'], -1))\n",
    "        # this is the line we wanna inject the action into from.\n",
    "        actions = {agent: vmap(env.action_space(agent).sample)(key_act[i]) for i, agent in enumerate(env.agents)}\n",
    "\n",
    "        key, key_step = random.split(key)\n",
    "        key_step      = random.split(key_step, config['n_envs'])\n",
    "\n",
    "        obsv, env_state, _, _, infos = vmap(env.step)(key_step, env_state, actions)\n",
    "\n",
    "        return (env_state, obsv, key), seqs + [env_state] # + [env_state]  # (state, obsv, reward, done, infos)\n",
    "\n",
    "    def vtraj(key):\n",
    "        key, key_init      = random.split(key)\n",
    "        runner_state       = init_runner_state(key_init)\n",
    "        runner_state, seqs = jax.lax.scan(env_step, runner_state, list(), length=config['max_steps'])\n",
    "        return runner_state, seqs[0]\n",
    "\n",
    "    return vtraj"
   ]
  },
  {
   "cell_type": "code",
   "execution_count": 3,
   "metadata": {},
   "outputs": [],
   "source": [
    "config = {\"max_steps\": 100, \"n_envs\": 16, \"env\": \"HeuristicEnemySMAX\", \"env_config\": {'scenario': map_name_to_scenario('8m')}}\n",
    "vtraj  = jit(make_vtraj(config))"
   ]
  },
  {
   "cell_type": "code",
   "execution_count": 4,
   "metadata": {},
   "outputs": [],
   "source": [
    "key                     = random.PRNGKey(0)\n",
    "(state, obs, key), seqs = vtraj(key)\n",
    "esch.worlds_fn(seqs)"
   ]
  },
  {
   "cell_type": "markdown",
   "metadata": {},
   "source": [
    "## behavior tree"
   ]
  },
  {
   "cell_type": "code",
   "execution_count": null,
   "metadata": {},
   "outputs": [
    {
     "data": {
      "text/plain": [
       "\" \\n# Define a basic action node\\ndef leaf_fn(state, condition):\\n    return jnp.array(state[0] > state[1]), state\\n\\n# Define a selector node (returns success if any child succeeds)\\ndef node_fn(nodes, state, kind='selector'):\\n    # success, state = [leaf(s) for leaf, s in zip(nodes, state)], []\\n    # vmap over nodes and states\\n    return success, state  # jnp.any(success), state if kind == 'selector' else jnp.all(success), state\\n\\n# Example usage\\ndef tree_fn(state):\\n    return node_fn([leaf_fn for _ in range(config['n_agents'])], state)\\n    \\nkey, key_init  = random.split(key)\\nkey_init       = random.split(key_init, config['n_agents'])\\nsuccess, state = tree_fn(key_init)\\nsuccess \""
      ]
     },
     "execution_count": 5,
     "metadata": {},
     "output_type": "execute_result"
    }
   ],
   "source": [
    "\"\"\" \n",
    "# Define a basic action node\n",
    "def leaf_fn(state, condition):\n",
    "    return jnp.array(state[0] > state[1]), state\n",
    "\n",
    "# Define a selector node (returns success if any child succeeds)\n",
    "def node_fn(nodes, state, kind='selector'):\n",
    "    # success, state = [leaf(s) for leaf, s in zip(nodes, state)], []\n",
    "    # vmap over nodes and states\n",
    "    return success, state  # jnp.any(success), state if kind == 'selector' else jnp.all(success), state\n",
    "\n",
    "# Example usage\n",
    "def tree_fn(state):\n",
    "    return node_fn([leaf_fn for _ in range(config['n_agents'])], state)\n",
    "    \n",
    "key, key_init  = random.split(key)\n",
    "key_init       = random.split(key_init, config['n_agents'])\n",
    "success, state = tree_fn(key_init)\n",
    "success \"\"\""
   ]
  },
  {
   "cell_type": "code",
   "execution_count": null,
   "metadata": {},
   "outputs": [
    {
     "data": {
      "text/plain": [
       "(2, 10, 10)"
      ]
     },
     "execution_count": 6,
     "metadata": {},
     "output_type": "execute_result"
    }
   ],
   "source": [
    "seqs = jnp.zeros((1, 10, 10))\n",
    "seq  = jnp.zeros((10, 10))\n",
    "jnp.concatenate((seqs, seq[None, :]), axis=0).shape"
   ]
  },
  {
   "cell_type": "code",
   "execution_count": null,
   "metadata": {},
   "outputs": [],
   "source": []
  },
  {
   "cell_type": "code",
   "execution_count": null,
   "metadata": {},
   "outputs": [],
   "source": []
  }
 ],
 "metadata": {
  "kernelspec": {
   "display_name": "Python 3",
   "language": "python",
   "name": "python3"
  },
  "language_info": {
   "codemirror_mode": {
    "name": "ipython",
    "version": 3
   },
   "file_extension": ".py",
   "mimetype": "text/x-python",
   "name": "python",
   "nbconvert_exporter": "python",
   "pygments_lexer": "ipython3",
   "version": "3.11.7"
  }
 },
 "nbformat": 4,
 "nbformat_minor": 2
}
