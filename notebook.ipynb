{
 "cells": [
  {
   "cell_type": "markdown",
   "metadata": {},
   "source": [
    "# LLMIL"
   ]
  },
  {
   "cell_type": "code",
   "execution_count": 207,
   "metadata": {},
   "outputs": [],
   "source": [
    "import jax\n",
    "from jax import numpy as jnp, jit, vmap, random\n",
    "import chex\n",
    "from jaxmarl import make\n",
    "from jaxmarl.environments.smax import map_name_to_scenario\n",
    "from einops import rearrange\n",
    "from functional import partial\n",
    "\n",
    "from tqdm import tqdm\n",
    "import numpy as np\n",
    "from matplotlib import rcParams\n",
    "import matplotlib.pyplot as plt\n",
    "import darkdetect, imageio"
   ]
  },
  {
   "cell_type": "code",
   "execution_count": 208,
   "metadata": {},
   "outputs": [],
   "source": [
    "# globals\n",
    "rcParams[\"font.family\"] = \"monospace\"\n",
    "rcParams[\"font.monospace\"] = \"Fira Code\"\n",
    "bg = \"black\" if darkdetect.isDark() else \"white\"\n",
    "ink = \"white\" if bg == \"black\" else \"black\"\n",
    "markers = {0: \"o\", 1: \"s\", 2: \"D\", 3: \"^\", 4: \"<\", 5: \">\", 6: \"+\"}"
   ]
  },
  {
   "cell_type": "markdown",
   "metadata": {},
   "source": [
    "## Classes"
   ]
  },
  {
   "cell_type": "code",
   "execution_count": 209,
   "metadata": {},
   "outputs": [],
   "source": [
    "@chex.dataclass\n",
    "class Config:\n",
    "    env_name: str = \"smax\"\n",
    "    scenario: str = \"simple_wood_and_stone\""
   ]
  },
  {
   "cell_type": "markdown",
   "metadata": {},
   "source": [
    "# Vanilla"
   ]
  },
  {
   "cell_type": "code",
   "execution_count": 210,
   "metadata": {},
   "outputs": [],
   "source": [
    "# globals\n",
    "n_envs = 6\n",
    "n_steps = 100\n",
    "scenario = \"3s5z_vs_3s6z\""
   ]
  },
  {
   "cell_type": "code",
   "execution_count": 211,
   "metadata": {},
   "outputs": [],
   "source": [
    "# iter\n",
    "def step_fn(rng, env, obs_v, old_state_v):\n",
    "    rng, act_rng, step_rng = random.split(rng, 3)\n",
    "    act_keys = random.split(act_rng, env.num_agents * n_envs).reshape(\n",
    "        env.num_agents, n_envs, -1\n",
    "    )\n",
    "    step_keys = random.split(step_rng, n_envs)\n",
    "    actions = {\n",
    "        a: action_fn(env, act_keys[i], obs_v[a], a) for i, a in enumerate(env.agents)\n",
    "    }\n",
    "    obs_v, state_v, reward_v, _, _ = vmap(env.step)(step_keys, old_state_v, actions)\n",
    "    return (rng, env, obs_v, state_v), (step_keys, old_state_v, actions), reward_v\n",
    "\n",
    "\n",
    "@partial(vmap, in_axes=(None, 0, 0, None))\n",
    "def action_fn(env, rng, obs, a):\n",
    "    # get observation, ignore it and rake random action.\n",
    "    # next step is to call some bt stuff.\n",
    "    return env.action_space(a).sample(rng)\n",
    "\n",
    "\n",
    "def traj_fn(rng, env):\n",
    "    rng, reset_rng = random.split(random.PRNGKey(0))\n",
    "    reset_keys = random.split(reset_rng, n_envs)\n",
    "    obs_v, state_v = vmap(env.reset)(reset_keys)\n",
    "    traj_state = (rng, env, obs_v, state_v)\n",
    "    state_seq, reward_seq = [], []\n",
    "    for step in tqdm(range(n_steps)):\n",
    "        traj_state, state_v, reward_v = step_fn(*traj_state)\n",
    "        state_seq, reward_seq = state_seq + [state_v], reward_seq + [reward_v]\n",
    "    return state_seq, reward_seq"
   ]
  },
  {
   "cell_type": "code",
   "execution_count": 212,
   "metadata": {},
   "outputs": [
    {
     "name": "stderr",
     "output_type": "stream",
     "text": [
      "100%|██████████| 100/100 [00:04<00:00, 21.77it/s]\n"
     ]
    }
   ],
   "source": [
    "env = make(\"SMAX\", scenario=map_name_to_scenario(scenario))\n",
    "rng, key = random.split(random.PRNGKey(0))\n",
    "state_seq, reward_seq = traj_fn(key, env)"
   ]
  },
  {
   "cell_type": "code",
   "execution_count": 216,
   "metadata": {},
   "outputs": [],
   "source": [
    "def plot_fn(env, state_seq, reward_seq, expand=False):\n",
    "    \"\"\"\n",
    "    given an environment, a state_seq, and a reward seq\n",
    "    this function makes a small multiples plot of the trejectory.\n",
    "    It save it as a .mp4 film in docs/figs along with an image of the last frame.\n",
    "    \"\"\"\n",
    "    state_seq = state_seq if not expand else vmap(env.expand_state_seq)(state_seq)\n",
    "    frames, returns = [], return_fn(reward_seq)\n",
    "    unit_types = np.unique(np.array(state_seq[0][1].unit_types))\n",
    "    fills = np.where(np.array(state_seq[0][1].unit_teams) == 1, ink, \"None\")\n",
    "    for i, (_, state, action) in tqdm(enumerate(state_seq), total=len(state_seq)):\n",
    "        fig, axes = plt.subplots(2, 3, figsize=(18, 12), facecolor=bg, dpi=100)\n",
    "        for j, ax in zip(range(n_envs), axes.flatten()):\n",
    "            ax_fn(ax, state, returns, i, j)  # setup axis theme\n",
    "            for unit_type in unit_types:\n",
    "                idx = state.unit_types[j, :] == unit_type  # unit_type idxs\n",
    "                x = state.unit_positions[j, idx, 0]  # x coord\n",
    "                y = state.unit_positions[j, idx, 1]  # y coord\n",
    "                c = fills[j, idx]  # color\n",
    "                s = state.unit_health[j, idx] ** 1.5 * 0.2  # size\n",
    "                ax.scatter(x, y, s=s, c=c, edgecolor=ink, marker=markers[unit_type])\n",
    "        frames.append(frame_fn(fig, i // 8 if expand else i))\n",
    "    fname = f\"docs/figs/worlds_{bg}{'_laggy' if not expand else ''}.mp4\"\n",
    "    imageio.mimsave(fname, frames, fps=24 if expand else 3)\n",
    "\n",
    "\n",
    "def return_fn(reward_seq):\n",
    "    reward = [reward_fn(reward) for reward in reward_seq]\n",
    "    ally = jnp.stack([v[0] for v in reward]).cumsum(axis=0)\n",
    "    enemy = jnp.stack([v[1] for v in reward]).cumsum(axis=0)\n",
    "    return {\"ally\": ally, \"enemy\": enemy}\n",
    "\n",
    "\n",
    "def reward_fn(reward):\n",
    "    ally_rewards = jnp.stack([v for k, v in reward.items() if k.startswith(\"ally\")])\n",
    "    enemy_rewards = jnp.stack([v for k, v in reward.items() if k.startswith(\"enemy\")])\n",
    "    return ally_rewards.sum(axis=0), enemy_rewards.sum(axis=0)\n",
    "\n",
    "\n",
    "def frame_fn(fig, idx):\n",
    "    title = f\"step : {str(idx).zfill(len(str(n_steps - 1)))}     model : random     env : {scenario}\"\n",
    "    fig.text(0.01, 0.5, title, va=\"center\", rotation=\"vertical\", fontsize=20, color=ink)\n",
    "    sublot_params = {\"hspace\": 0.3, \"wspace\": 0.3, \"left\": 0.05, \"right\": 0.95}\n",
    "    plt.subplots_adjust(**sublot_params)\n",
    "    fig.canvas.draw()\n",
    "    frame = np.frombuffer(fig.canvas.buffer_rgba(), dtype=np.uint8)\n",
    "    frame = frame.reshape(fig.canvas.get_width_height()[::-1] + (4,))[:, :, :3]\n",
    "    if idx == n_steps - 1:\n",
    "        plt.savefig(f\"docs/figs/worlds_{bg}.jpg\", dpi=200)\n",
    "    plt.close()  # close fig\n",
    "    return frame\n",
    "\n",
    "\n",
    "tick_params = {\n",
    "    \"colors\": ink,\n",
    "    \"direction\": \"in\",\n",
    "    \"length\": 6,\n",
    "    \"width\": 1,\n",
    "    \"which\": \"both\",\n",
    "    \"top\": True,\n",
    "    \"bottom\": True,\n",
    "    \"left\": True,\n",
    "    \"right\": True,\n",
    "    \"labelleft\": False,\n",
    "    \"labelbottom\": False,\n",
    "}\n",
    "\n",
    "\n",
    "def ax_fn(ax, state, returns, i, j):\n",
    "    ally_return = returns[\"ally\"][i, j]\n",
    "    enemy_return = returns[\"enemy\"][i, j]\n",
    "    ax.set_xlabel(\"{:.3f} | {:.3f}\".format(ally_return, enemy_return), color=ink)\n",
    "    ax.set_title(f\"simulation {i+1}\", color=ink)\n",
    "    ax.set_facecolor(bg)\n",
    "    ticks = np.arange(2, 31, 4)  # Assuming your grid goes from 0 to 32\n",
    "    ax.set_xticks(ticks)\n",
    "    ax.set_yticks(ticks)\n",
    "    ax.tick_params(**tick_params)\n",
    "    ax.spines[\"top\"].set_color(ink)\n",
    "    ax.spines[\"bottom\"].set_color(ink)\n",
    "    ax.spines[\"left\"].set_color(ink)\n",
    "    ax.spines[\"right\"].set_color(ink)\n",
    "    ax.set_aspect(\"equal\")\n",
    "    ax.set_xlim(-2, 34)\n",
    "    ax.set_ylim(-2, 34)"
   ]
  },
  {
   "cell_type": "code",
   "execution_count": 217,
   "metadata": {},
   "outputs": [
    {
     "name": "stderr",
     "output_type": "stream",
     "text": [
      "100%|██████████| 100/100 [00:15<00:00,  6.57it/s]\n",
      "IMAGEIO FFMPEG_WRITER WARNING: input image is not divisible by macro_block_size=16, resizing from (1807, 1200) to (1808, 1200) to ensure video compatibility with most codecs and players. To prevent resizing, make your input image divisible by the macro_block_size or set the macro_block_size to 1 (risking incompatibility).\n",
      "[rawvideo @ 0x158639640] Stream #0: not enough frames to estimate rate; consider increasing probesize\n"
     ]
    }
   ],
   "source": [
    "plot_fn(env, state_seq, reward_seq, expand=False)"
   ]
  },
  {
   "cell_type": "markdown",
   "metadata": {},
   "source": [
    "# Bullet proof"
   ]
  },
  {
   "cell_type": "code",
   "execution_count": 282,
   "metadata": {},
   "outputs": [
    {
     "name": "stderr",
     "output_type": "stream",
     "text": [
      "100%|██████████| 100/100 [00:00<00:00, 160.56it/s]\n"
     ]
    }
   ],
   "source": [
    "def dist_fn(pos):  # computing the distances between all ally and enemy agents\n",
    "    delta = pos[None, :, :] - pos[:, None, :]\n",
    "    dist = jnp.sqrt((delta**2).sum(axis=2))\n",
    "    dist = dist[: env.num_allies, env.num_allies :]\n",
    "    return {\"ally\": dist, \"enemy\": dist.T}\n",
    "\n",
    "\n",
    "def range_fn(dists, ranges):  # computing what targets are in range\n",
    "    ally_range = dists[\"ally\"] < ranges[: env.num_allies][:, None]\n",
    "    enemy_range = dists[\"enemy\"] < ranges[env.num_allies :][:, None]\n",
    "    return {\"ally\": ally_range, \"enemy\": enemy_range}\n",
    "\n",
    "\n",
    "def target_fn(acts, in_range, team):  # computing the one hot valid targets\n",
    "    t_acts = jnp.stack([v for k, v in acts.items() if k.startswith(team)]).T\n",
    "    t_targets = jnp.where(t_acts - 5 < 0, -1, t_acts - 5)  # 5 is the attack range\n",
    "    t_attacks = jnp.eye(in_range[team].shape[2] + 1)[t_targets][:, :, :-1]\n",
    "    return t_attacks\n",
    "\n",
    "\n",
    "@jit\n",
    "def attack_fn(state_seq, attacks=[]):  # one hot attack list [(team, sim, ally, enemy)]\n",
    "    for _, state, acts in tqdm(state_seq):\n",
    "        dists = vmap(dist_fn)(state.unit_positions)\n",
    "        ranges = env.unit_type_attack_ranges[state.unit_types]\n",
    "        in_range = vmap(range_fn)(dists, ranges)\n",
    "        target = partial(target_fn, acts, in_range)\n",
    "        attack = {\"ally\": target(\"ally\"), \"enemy\": target(\"enemy\")}\n",
    "        attacks.append(attack)\n",
    "    return attacks\n",
    "\n",
    "\n",
    "attacks = attack_fn(state_seq)"
   ]
  },
  {
   "cell_type": "code",
   "execution_count": 286,
   "metadata": {},
   "outputs": [
    {
     "name": "stderr",
     "output_type": "stream",
     "text": [
      "100%|██████████| 100/100 [00:00<00:00, 647.57it/s]"
     ]
    },
    {
     "name": "stdout",
     "output_type": "stream",
     "text": [
      "(65, 3)\n",
      "(55, 3)\n",
      "(63, 3)\n",
      "(63, 3)\n",
      "(69, 3)\n",
      "(65, 3)\n",
      "(62, 3)\n",
      "(56, 3)\n",
      "(69, 3)\n",
      "(73, 3)\n",
      "(64, 3)\n",
      "(76, 3)\n",
      "(62, 3)\n",
      "(61, 3)\n",
      "(62, 3)\n",
      "(64, 3)\n",
      "(64, 3)\n",
      "(67, 3)\n",
      "(72, 3)\n",
      "(58, 3)\n",
      "(62, 3)\n",
      "(71, 3)\n",
      "(61, 3)\n",
      "(64, 3)\n",
      "(66, 3)\n",
      "(59, 3)\n",
      "(63, 3)\n",
      "(69, 3)\n",
      "(63, 3)\n",
      "(61, 3)\n",
      "(68, 3)\n",
      "(63, 3)\n",
      "(65, 3)\n",
      "(64, 3)\n",
      "(65, 3)\n",
      "(58, 3)\n",
      "(68, 3)\n",
      "(62, 3)\n",
      "(62, 3)\n",
      "(61, 3)\n",
      "(66, 3)\n",
      "(65, 3)\n",
      "(64, 3)\n",
      "(65, 3)\n",
      "(57, 3)\n",
      "(65, 3)\n",
      "(63, 3)\n",
      "(64, 3)\n",
      "(65, 3)\n",
      "(59, 3)\n",
      "(65, 3)\n",
      "(68, 3)\n",
      "(69, 3)\n",
      "(63, 3)\n",
      "(68, 3)\n",
      "(67, 3)\n",
      "(67, 3)\n",
      "(59, 3)\n",
      "(69, 3)\n",
      "(70, 3)\n",
      "(60, 3)\n",
      "(58, 3)\n",
      "(65, 3)\n",
      "(58, 3)\n",
      "(60, 3)\n",
      "(59, 3)\n",
      "(54, 3)\n",
      "(63, 3)\n",
      "(56, 3)\n",
      "(65, 3)\n",
      "(67, 3)\n",
      "(62, 3)\n",
      "(70, 3)\n",
      "(57, 3)\n",
      "(58, 3)\n",
      "(66, 3)\n",
      "(59, 3)\n",
      "(74, 3)\n",
      "(57, 3)\n",
      "(67, 3)\n",
      "(65, 3)\n",
      "(58, 3)\n",
      "(65, 3)\n",
      "(63, 3)\n",
      "(67, 3)\n",
      "(72, 3)\n",
      "(60, 3)\n",
      "(68, 3)\n",
      "(66, 3)\n",
      "(62, 3)\n",
      "(64, 3)\n",
      "(61, 3)\n",
      "(66, 3)\n",
      "(73, 3)\n",
      "(60, 3)\n",
      "(66, 3)\n",
      "(60, 3)\n",
      "(62, 3)\n",
      "(64, 3)\n",
      "(71, 3)\n"
     ]
    },
    {
     "name": "stderr",
     "output_type": "stream",
     "text": [
      "\n"
     ]
    }
   ],
   "source": [
    "def bullet_fn(state_seq, attacks, bullet_seq=[]):  # MUST BE EXPANDED STATE_SEQ!!!\n",
    "    for attack in tqdm(attacks):\n",
    "        ally = jnp.stack(jnp.where(attack[\"ally\"] == 1)).T\n",
    "        enemy = jnp.stack(jnp.where(attack[\"enemy\"] == 1)).T\n",
    "        bullets = jnp.concatenate([ally, enemy], axis=0)\n",
    "        # get bullet positions from ally and enemy positions\n",
    "        print(bullets.shape)\n",
    "\n",
    "\n",
    "bullets = bullet_fn(state_seq, attacks)"
   ]
  },
  {
   "cell_type": "code",
   "execution_count": null,
   "metadata": {},
   "outputs": [],
   "source": []
  }
 ],
 "metadata": {
  "kernelspec": {
   "display_name": "Python 3",
   "language": "python",
   "name": "python3"
  },
  "language_info": {
   "codemirror_mode": {
    "name": "ipython",
    "version": 3
   },
   "file_extension": ".py",
   "mimetype": "text/x-python",
   "name": "python",
   "nbconvert_exporter": "python",
   "pygments_lexer": "ipython3",
   "version": "3.11.7"
  }
 },
 "nbformat": 4,
 "nbformat_minor": 2
}
