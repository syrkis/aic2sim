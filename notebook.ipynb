{
 "cells": [
  {
   "cell_type": "markdown",
   "metadata": {},
   "source": [
    "# C2SIM"
   ]
  },
  {
   "cell_type": "code",
   "execution_count": 15,
   "metadata": {},
   "outputs": [],
   "source": [
    "import jax\n",
    "import chex\n",
    "import ollama\n",
    "from jax import numpy as jnp, jit, vmap, random\n",
    "from jaxmarl import make\n",
    "from jaxmarl.environments.smax import map_name_to_scenario\n",
    "\n",
    "from einops import rearrange\n",
    "from functional import partial\n",
    "from tqdm import tqdm\n",
    "from typing import Callable, Any, Tuple, Dict, List\n",
    "import yaml\n",
    "\n",
    "from src import plot_fn, make_bt"
   ]
  },
  {
   "cell_type": "code",
   "execution_count": 16,
   "metadata": {},
   "outputs": [],
   "source": [
    "# globals\n",
    "model = \"mistral:7b-instruct-q2_K\"\n",
    "n_envs = 100\n",
    "n_steps = 100\n",
    "bt_path = \"data/bt.yaml\"\n",
    "scenario = \"3s5z_vs_3s6z\"\n",
    "num_allies = 10\n",
    "num_enemies = 10"
   ]
  },
  {
   "cell_type": "code",
   "execution_count": null,
   "metadata": {},
   "outputs": [],
   "source": []
  },
  {
   "cell_type": "markdown",
   "metadata": {},
   "source": [
    "## language model"
   ]
  },
  {
   "cell_type": "code",
   "execution_count": null,
   "metadata": {},
   "outputs": [],
   "source": []
  },
  {
   "cell_type": "markdown",
   "metadata": {},
   "source": [
    "## smax trajectories"
   ]
  },
  {
   "cell_type": "code",
   "execution_count": 17,
   "metadata": {},
   "outputs": [],
   "source": [
    "def step_fn(bt, rng, old_state_v, obs_v, env):  # take a step in the env\n",
    "    rng, act_rng, step_rng = random.split(rng, 3)\n",
    "    act_keys = random.split(act_rng, env.num_agents * n_envs).reshape(-1, n_envs, 2)\n",
    "    step_keys = random.split(step_rng, n_envs)\n",
    "    acts = {a: bt(act_keys[i], obs_v[a], a) for i, a in enumerate(env.agents)}  # para\n",
    "    obs_v, state_v, reward_v, _, _ = vmap(env.step)(step_keys, old_state_v, acts)\n",
    "    return obs_v, (bt, rng, state_v), (step_keys, old_state_v, acts), reward_v\n",
    "\n",
    "\n",
    "def traj_fn(bt, rng, env, state_seq=[], reward_seq=[]):  # take n_steps in m env\n",
    "    rng, reset_rng = random.split(random.PRNGKey(0))  # split rng for reset and step\n",
    "    reset_keys = random.split(reset_rng, n_envs)  # split reset rng for n_envs\n",
    "\n",
    "    step = partial(step_fn, env=env)  # partial step function\n",
    "    obs_v, state_v = vmap(env.reset)(reset_keys)  # initiate envs\n",
    "    traj_state = (bt, rng, state_v)  # initial state for step_fn\n",
    "\n",
    "    for _ in tqdm(range(n_steps)):  # take n steps in env and append to lists\n",
    "        obs_v, traj_state, state_v, reward_v = step(*traj_state, obs_v)  # take step\n",
    "        state_seq, reward_seq = state_seq + [state_v], reward_seq + [reward_v]\n",
    "        return\n",
    "\n",
    "    return state_seq, reward_seq"
   ]
  },
  {
   "cell_type": "code",
   "execution_count": 18,
   "metadata": {},
   "outputs": [
    {
     "name": "stderr",
     "output_type": "stream",
     "text": [
      "  0%|          | 0/100 [00:00<?, ?it/s]\n"
     ]
    },
    {
     "ename": "TypeError",
     "evalue": "Argument 'ally_0' of type <class 'str'> is not a valid JAX type",
     "output_type": "error",
     "traceback": [
      "\u001b[0;31m---------------------------------------------------------------------------\u001b[0m",
      "\u001b[0;31mTypeError\u001b[0m                                 Traceback (most recent call last)",
      "Cell \u001b[0;32mIn[18], line 5\u001b[0m\n\u001b[1;32m      3\u001b[0m bt \u001b[38;5;241m=\u001b[39m jit(vmap(make_bt(env, bt_path), in_axes\u001b[38;5;241m=\u001b[39m(\u001b[38;5;241m0\u001b[39m, \u001b[38;5;241m0\u001b[39m, \u001b[38;5;28;01mNone\u001b[39;00m)))\n\u001b[1;32m      4\u001b[0m rng, key \u001b[38;5;241m=\u001b[39m random\u001b[38;5;241m.\u001b[39msplit(random\u001b[38;5;241m.\u001b[39mPRNGKey(\u001b[38;5;241m0\u001b[39m))\n\u001b[0;32m----> 5\u001b[0m state_seq, reward_seq \u001b[38;5;241m=\u001b[39m \u001b[43mtraj_fn\u001b[49m\u001b[43m(\u001b[49m\u001b[43mbt\u001b[49m\u001b[43m,\u001b[49m\u001b[43m \u001b[49m\u001b[43mkey\u001b[49m\u001b[43m,\u001b[49m\u001b[43m \u001b[49m\u001b[43menv\u001b[49m\u001b[43m)\u001b[49m\n\u001b[1;32m      6\u001b[0m \u001b[38;5;66;03m# plot_fn(env, state_seq, reward_seq, expand=True)\u001b[39;00m\n",
      "Cell \u001b[0;32mIn[17], line 19\u001b[0m, in \u001b[0;36mtraj_fn\u001b[0;34m(bt, rng, env, state_seq, reward_seq)\u001b[0m\n\u001b[1;32m     16\u001b[0m traj_state \u001b[38;5;241m=\u001b[39m (bt, rng, state_v)  \u001b[38;5;66;03m# initial state for step_fn\u001b[39;00m\n\u001b[1;32m     18\u001b[0m \u001b[38;5;28;01mfor\u001b[39;00m _ \u001b[38;5;129;01min\u001b[39;00m tqdm(\u001b[38;5;28mrange\u001b[39m(n_steps)):  \u001b[38;5;66;03m# take n steps in env and append to lists\u001b[39;00m\n\u001b[0;32m---> 19\u001b[0m     obs_v, traj_state, state_v, reward_v \u001b[38;5;241m=\u001b[39m \u001b[43mstep\u001b[49m\u001b[43m(\u001b[49m\u001b[38;5;241;43m*\u001b[39;49m\u001b[43mtraj_state\u001b[49m\u001b[43m,\u001b[49m\u001b[43m \u001b[49m\u001b[43mobs_v\u001b[49m\u001b[43m)\u001b[49m  \u001b[38;5;66;03m# take step\u001b[39;00m\n\u001b[1;32m     20\u001b[0m     state_seq, reward_seq \u001b[38;5;241m=\u001b[39m state_seq \u001b[38;5;241m+\u001b[39m [state_v], reward_seq \u001b[38;5;241m+\u001b[39m [reward_v]\n\u001b[1;32m     22\u001b[0m \u001b[38;5;28;01mreturn\u001b[39;00m state_seq, reward_seq\n",
      "File \u001b[0;32m~/.pyenv/versions/3.11.7/lib/python3.11/site-packages/functional/__init__.py:48\u001b[0m, in \u001b[0;36mpartial.__call__\u001b[0;34m(self, *args, **kwargs)\u001b[0m\n\u001b[1;32m     45\u001b[0m applied_kwargs \u001b[38;5;241m=\u001b[39m \u001b[38;5;28mdict\u001b[39m(\u001b[38;5;28mself\u001b[39m\u001b[38;5;241m.\u001b[39mkwargs)\n\u001b[1;32m     46\u001b[0m applied_kwargs\u001b[38;5;241m.\u001b[39mupdate(kwargs)\n\u001b[0;32m---> 48\u001b[0m \u001b[38;5;28;01mreturn\u001b[39;00m \u001b[38;5;28;43mself\u001b[39;49m\u001b[38;5;241;43m.\u001b[39;49m\u001b[43mfunc\u001b[49m\u001b[43m(\u001b[49m\u001b[38;5;241;43m*\u001b[39;49m\u001b[43mapplied_args\u001b[49m\u001b[43m,\u001b[49m\u001b[43m \u001b[49m\u001b[38;5;241;43m*\u001b[39;49m\u001b[38;5;241;43m*\u001b[39;49m\u001b[43mapplied_kwargs\u001b[49m\u001b[43m)\u001b[49m\n",
      "Cell \u001b[0;32mIn[17], line 5\u001b[0m, in \u001b[0;36mstep_fn\u001b[0;34m(bt, rng, old_state_v, obs_v, env)\u001b[0m\n\u001b[1;32m      3\u001b[0m act_keys \u001b[38;5;241m=\u001b[39m random\u001b[38;5;241m.\u001b[39msplit(act_rng, env\u001b[38;5;241m.\u001b[39mnum_agents \u001b[38;5;241m*\u001b[39m n_envs)\u001b[38;5;241m.\u001b[39mreshape(\u001b[38;5;241m-\u001b[39m\u001b[38;5;241m1\u001b[39m, n_envs, \u001b[38;5;241m2\u001b[39m)\n\u001b[1;32m      4\u001b[0m step_keys \u001b[38;5;241m=\u001b[39m random\u001b[38;5;241m.\u001b[39msplit(step_rng, n_envs)\n\u001b[0;32m----> 5\u001b[0m acts \u001b[38;5;241m=\u001b[39m \u001b[43m{\u001b[49m\u001b[43ma\u001b[49m\u001b[43m:\u001b[49m\u001b[43m \u001b[49m\u001b[43mbt\u001b[49m\u001b[43m(\u001b[49m\u001b[43mact_keys\u001b[49m\u001b[43m[\u001b[49m\u001b[43mi\u001b[49m\u001b[43m]\u001b[49m\u001b[43m,\u001b[49m\u001b[43m \u001b[49m\u001b[43mobs_v\u001b[49m\u001b[43m[\u001b[49m\u001b[43ma\u001b[49m\u001b[43m]\u001b[49m\u001b[43m,\u001b[49m\u001b[43m \u001b[49m\u001b[43ma\u001b[49m\u001b[43m)\u001b[49m\u001b[43m \u001b[49m\u001b[38;5;28;43;01mfor\u001b[39;49;00m\u001b[43m \u001b[49m\u001b[43mi\u001b[49m\u001b[43m,\u001b[49m\u001b[43m \u001b[49m\u001b[43ma\u001b[49m\u001b[43m \u001b[49m\u001b[38;5;129;43;01min\u001b[39;49;00m\u001b[43m \u001b[49m\u001b[38;5;28;43menumerate\u001b[39;49m\u001b[43m(\u001b[49m\u001b[43menv\u001b[49m\u001b[38;5;241;43m.\u001b[39;49m\u001b[43magents\u001b[49m\u001b[43m)\u001b[49m\u001b[43m}\u001b[49m  \u001b[38;5;66;03m# para\u001b[39;00m\n\u001b[1;32m      6\u001b[0m obs_v, state_v, reward_v, _, _ \u001b[38;5;241m=\u001b[39m vmap(env\u001b[38;5;241m.\u001b[39mstep)(step_keys, old_state_v, acts)\n\u001b[1;32m      7\u001b[0m \u001b[38;5;28;01mreturn\u001b[39;00m obs_v, (bt, rng, state_v), (step_keys, old_state_v, acts), reward_v\n",
      "Cell \u001b[0;32mIn[17], line 5\u001b[0m, in \u001b[0;36m<dictcomp>\u001b[0;34m(.0)\u001b[0m\n\u001b[1;32m      3\u001b[0m act_keys \u001b[38;5;241m=\u001b[39m random\u001b[38;5;241m.\u001b[39msplit(act_rng, env\u001b[38;5;241m.\u001b[39mnum_agents \u001b[38;5;241m*\u001b[39m n_envs)\u001b[38;5;241m.\u001b[39mreshape(\u001b[38;5;241m-\u001b[39m\u001b[38;5;241m1\u001b[39m, n_envs, \u001b[38;5;241m2\u001b[39m)\n\u001b[1;32m      4\u001b[0m step_keys \u001b[38;5;241m=\u001b[39m random\u001b[38;5;241m.\u001b[39msplit(step_rng, n_envs)\n\u001b[0;32m----> 5\u001b[0m acts \u001b[38;5;241m=\u001b[39m {a: \u001b[43mbt\u001b[49m\u001b[43m(\u001b[49m\u001b[43mact_keys\u001b[49m\u001b[43m[\u001b[49m\u001b[43mi\u001b[49m\u001b[43m]\u001b[49m\u001b[43m,\u001b[49m\u001b[43m \u001b[49m\u001b[43mobs_v\u001b[49m\u001b[43m[\u001b[49m\u001b[43ma\u001b[49m\u001b[43m]\u001b[49m\u001b[43m,\u001b[49m\u001b[43m \u001b[49m\u001b[43ma\u001b[49m\u001b[43m)\u001b[49m \u001b[38;5;28;01mfor\u001b[39;00m i, a \u001b[38;5;129;01min\u001b[39;00m \u001b[38;5;28menumerate\u001b[39m(env\u001b[38;5;241m.\u001b[39magents)}  \u001b[38;5;66;03m# para\u001b[39;00m\n\u001b[1;32m      6\u001b[0m obs_v, state_v, reward_v, _, _ \u001b[38;5;241m=\u001b[39m vmap(env\u001b[38;5;241m.\u001b[39mstep)(step_keys, old_state_v, acts)\n\u001b[1;32m      7\u001b[0m \u001b[38;5;28;01mreturn\u001b[39;00m obs_v, (bt, rng, state_v), (step_keys, old_state_v, acts), reward_v\n",
      "    \u001b[0;31m[... skipping hidden 6 frame]\u001b[0m\n",
      "File \u001b[0;32m~/.pyenv/versions/3.11.7/lib/python3.11/site-packages/jax/_src/api_util.py:590\u001b[0m, in \u001b[0;36m_str_abstractify\u001b[0;34m(x)\u001b[0m\n\u001b[1;32m    589\u001b[0m \u001b[38;5;28;01mdef\u001b[39;00m \u001b[38;5;21m_str_abstractify\u001b[39m(x):\n\u001b[0;32m--> 590\u001b[0m   \u001b[38;5;28;01mraise\u001b[39;00m \u001b[38;5;167;01mTypeError\u001b[39;00m(\u001b[38;5;124mf\u001b[39m\u001b[38;5;124m\"\u001b[39m\u001b[38;5;124mArgument \u001b[39m\u001b[38;5;124m'\u001b[39m\u001b[38;5;132;01m{\u001b[39;00mx\u001b[38;5;132;01m}\u001b[39;00m\u001b[38;5;124m'\u001b[39m\u001b[38;5;124m of type \u001b[39m\u001b[38;5;132;01m{\u001b[39;00m\u001b[38;5;28mtype\u001b[39m(x)\u001b[38;5;132;01m}\u001b[39;00m\u001b[38;5;124m is not a valid JAX type\u001b[39m\u001b[38;5;124m\"\u001b[39m)\n",
      "\u001b[0;31mTypeError\u001b[0m: Argument 'ally_0' of type <class 'str'> is not a valid JAX type"
     ]
    }
   ],
   "source": [
    "# scenario=map_name_to_scenario(scenario))  # TODO: allow HeuristicSMAX\n",
    "env = make(\"SMAX\", num_allies=num_allies, num_enemies=num_enemies)\n",
    "bt = jit(vmap(make_bt(env, bt_path), in_axes=(0, 0, None)))\n",
    "rng, key = random.split(random.PRNGKey(0))\n",
    "state_seq, reward_seq = traj_fn(bt, key, env)\n",
    "# plot_fn(env, state_seq, reward_seq, expand=True)"
   ]
  },
  {
   "cell_type": "markdown",
   "metadata": {},
   "source": [
    "## language model"
   ]
  },
  {
   "cell_type": "markdown",
   "metadata": {},
   "source": []
  }
 ],
 "metadata": {
  "kernelspec": {
   "display_name": "Python 3",
   "language": "python",
   "name": "python3"
  },
  "language_info": {
   "codemirror_mode": {
    "name": "ipython",
    "version": 3
   },
   "file_extension": ".py",
   "mimetype": "text/x-python",
   "name": "python",
   "nbconvert_exporter": "python",
   "pygments_lexer": "ipython3",
   "version": "3.11.7"
  }
 },
 "nbformat": 4,
 "nbformat_minor": 2
}
