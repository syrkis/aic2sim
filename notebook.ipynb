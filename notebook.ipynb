{
 "cells": [
  {
   "cell_type": "code",
   "execution_count": 2,
   "metadata": {},
   "outputs": [],
   "source": [
    "import jax\n",
    "from jax import numpy as jnp, jit, vmap, random\n",
    "from jaxmarl import make\n",
    "from jaxmarl.environments.smax import map_name_to_scenario, SMAX\n",
    "from jaxmarl.viz.visualizer import SMAXVisualizer, Visualizer\n",
    "from jaxmarl.environments.smax.smax_env import State as SMAXState  # use to unstack state carry from lax scan\n",
    "\n",
    "from matplotlib import rcParams\n",
    "from tqdm import tqdm\n",
    "from functional import partial\n",
    "import numpy as np\n",
    "import matplotlib.pyplot as plt\n",
    "import imageio\n",
    "import imageio_ffmpeg  # Make sure this is installed\n",
    "import darkdetect\n",
    "\n",
    "import esch"
   ]
  },
  {
   "cell_type": "code",
   "execution_count": 3,
   "metadata": {},
   "outputs": [],
   "source": [
    "# globals\n",
    "rcParams['font.family'] = 'monospace'\n",
    "rcParams['font.monospace'] = 'Fira Code'\n",
    "bg = 'black' if darkdetect.isDark() else 'white'\n",
    "ink = 'black' if bg == 'white' else 'white'\n",
    "markers = {0: 'o', 1: 's', 2: 'D', 3: '^', 4: '<', 5: '>', 6: '+'}"
   ]
  },
  {
   "cell_type": "markdown",
   "metadata": {},
   "source": [
    "# Vanilla"
   ]
  },
  {
   "cell_type": "code",
   "execution_count": 4,
   "metadata": {},
   "outputs": [],
   "source": [
    "# globals\n",
    "n_envs  = 6\n",
    "n_steps = 100\n",
    "scenario = '8m'"
   ]
  },
  {
   "cell_type": "code",
   "execution_count": 5,
   "metadata": {},
   "outputs": [],
   "source": [
    "# iter\n",
    "def step_fn(rng, env, obs_v, old_state_v):\n",
    "    rng, act_rng, step_rng         = random.split(rng, 3)\n",
    "    act_keys                       = random.split(act_rng, env.num_agents * n_envs).reshape(env.num_agents, n_envs, -1)\n",
    "    step_keys                      = random.split(step_rng, n_envs)\n",
    "    actions                        = {a: vmap(env.action_space(a).sample)(act_keys[i]) for i, a in enumerate(env.agents)}\n",
    "    obs_v, state_v, reward_v, _, _ = vmap(env.step)(step_keys, old_state_v, actions)\n",
    "    return (rng, env, obs_v, state_v), (step_keys, old_state_v, actions), reward_v\n",
    "\n",
    "def traj_fn(rng, env):\n",
    "    rng, reset_rng        = random.split(random.PRNGKey(0))\n",
    "    reset_keys            = random.split(reset_rng, n_envs)\n",
    "    obs_v, state_v        = vmap(env.reset)(reset_keys)\n",
    "    traj_state            = (rng, env, obs_v, state_v)\n",
    "    state_seq, reward_seq = [], []\n",
    "    for step in tqdm(range(n_steps)):\n",
    "        traj_state, state_v, reward_v = step_fn(*traj_state)\n",
    "        state_seq, reward_seq         = state_seq + [state_v], reward_seq + [reward_v]\n",
    "    return state_seq, reward_seq"
   ]
  },
  {
   "cell_type": "code",
   "execution_count": 6,
   "metadata": {},
   "outputs": [
    {
     "name": "stderr",
     "output_type": "stream",
     "text": [
      "100%|██████████| 100/100 [00:03<00:00, 32.76it/s]\n"
     ]
    }
   ],
   "source": [
    "env                   = make('SMAX', scenario=map_name_to_scenario(scenario))\n",
    "rng, key              = random.split(random.PRNGKey(0))\n",
    "state_seq, reward_seq = traj_fn(key, env,) "
   ]
  },
  {
   "cell_type": "code",
   "execution_count": 9,
   "metadata": {},
   "outputs": [],
   "source": [
    "def plot_fn(env, state_seq, reward_seq, expand=False):\n",
    "    \"\"\"\n",
    "    given an environment, a state_seq, and a reward seq\n",
    "    this function makes a small multiples plot of the trejectory.\n",
    "    It save it as a .mp4 film in docs/figs along with an image of the last frame.\n",
    "    \"\"\"\n",
    "    state_seq  = state_seq if not expand else vmap(env.expand_state_seq)(state_seq)  # expand states for smooth animation\n",
    "    frames     = []                                                                  # frames to make .mp4\n",
    "    unit_types = np.unique(np.array(state_seq[0][1].unit_types))                     # unit types for plotting markers\n",
    "    for jdx, (_, state, action) in tqdm(enumerate(state_seq), total=len(state_seq)):\n",
    "        reward    = reward_seq[jdx // 8 if expand else jdx]\n",
    "        fills     = np.where(np.array(state.unit_teams) == 1, ink, 'None')             # team colors\n",
    "        fig, axes = plt.subplots(2, 3, figsize=(17.92, 12.16), facecolor=bg, dpi=100)  # frame in .mp4 film\n",
    "        for idx, ax in zip(range(n_envs), axes.flatten()):\n",
    "            ax_fn(ax, state, reward, idx)  # setup axis theme\n",
    "            for unit_type in unit_types:\n",
    "                kdx = state.unit_types[idx, :] == unit_type     # unit_type idxs\n",
    "                x   = state.unit_positions[idx, kdx, 0]         # x coord\n",
    "                y   = state.unit_positions[idx, kdx, 1]         # y coord\n",
    "                c   = fills[idx, kdx]                           # color \n",
    "                s   = state.unit_health[idx, kdx] ** 1.5 * 0.2  # size \n",
    "                ax.scatter(x, y, s=s, c=c, edgecolor=ink, marker=markers[unit_type.item()])\n",
    "        frames.append(frame_fn(fig, jdx // 8 if expand else jdx))\n",
    "    imageio.mimsave(f'docs/figs/worlds_{bg}{\"_laggy\" if not expand else \"\"}.mp4', frames, fps=24 if expand else 3)\n",
    "    \n",
    "def frame_fn(fig, idx):\n",
    "    \n",
    "    title = f\"step : {str(idx).zfill(len(str(n_steps - 1)))}     model : random     env : {scenario}\"\n",
    "    fig.text(0.01, 0.5, title, va='center', rotation='vertical', fontsize=20, color=ink)\n",
    "    plt.subplots_adjust(left=0.05, bottom=0.05, right=0.95, top=0.95, wspace=0.3, hspace=0.3)\n",
    "    fig.canvas.draw()\n",
    "    frame = np.frombuffer(fig.canvas.buffer_rgba(), dtype=np.uint8)\n",
    "    frame = frame.reshape(fig.canvas.get_width_height()[::-1] + (4,))[:, :, :3]\n",
    "    if idx == n_steps - 1: plt.savefig(f'docs/figs/worlds_{bg}.jpg', dpi=200)\n",
    "    plt.close()   # close fig\n",
    "    return frame\n",
    "\n",
    "def ax_fn(ax, state, reward, idx):\n",
    "    ally_rewards = sum([v[idx] for k, v in reward.items() if k.startswith('ally')])\n",
    "    enemy_rewards = sum([v[idx] for k, v in reward.items() if k.startswith('enemy')])\n",
    "    ax.set_xlabel(\"{:.3f} | {:.3f}\".format(ally_rewards, enemy_rewards), color=ink)\n",
    "    ax.set_title(f\"simulation {idx+1}\", color=ink)\n",
    "    ax.set_facecolor(bg)\n",
    "    ticks = np.arange(2, 31, 4)  # Assuming your grid goes from 0 to 32\n",
    "    ax.set_xticks(ticks)\n",
    "    ax.set_yticks(ticks)\n",
    "    ax.tick_params(colors=ink, direction='in', length=6, width=1, which='both',\n",
    "        top=True, bottom=True, left=True, right=True, labelleft=False, labelbottom=False)\n",
    "    ax.spines['top'].set_color(ink)\n",
    "    ax.spines['bottom'].set_color(ink)\n",
    "    ax.spines['left'].set_color(ink)\n",
    "    ax.spines['right'].set_color(ink)\n",
    "    ax.set_aspect('equal')\n",
    "    ax.set_xlim(-2, 34)\n",
    "    ax.set_ylim(-2, 34)"
   ]
  },
  {
   "cell_type": "code",
   "execution_count": 8,
   "metadata": {},
   "outputs": [
    {
     "name": "stderr",
     "output_type": "stream",
     "text": [
      "100%|██████████| 100/100 [00:12<00:00,  8.03it/s]\n",
      "[rawvideo @ 0x7f8970f2dd40] Stream #0: not enough frames to estimate rate; consider increasing probesize\n"
     ]
    }
   ],
   "source": [
    "plot_fn(env, state_seq, reward_seq, expand=False)"
   ]
  },
  {
   "cell_type": "code",
   "execution_count": null,
   "metadata": {},
   "outputs": [],
   "source": []
  },
  {
   "cell_type": "markdown",
   "metadata": {},
   "source": [
    "# Bullet proof"
   ]
  },
  {
   "cell_type": "code",
   "execution_count": 30,
   "metadata": {},
   "outputs": [
    {
     "name": "stdout",
     "output_type": "stream",
     "text": [
      "(6,) (6, 16) [12  4  1  2  4  4] [ True  True  True  True  True  True  True  True False False False False\n",
      " False False False False]\n"
     ]
    }
   ],
   "source": [
    "def dist_fn(pos):\n",
    "    delta = (pos[None, :, :] - pos[:, None, :])\n",
    "    dists = jnp.sqrt((delta ** 2).sum(axis=2))\n",
    "    return dists\n",
    "\n",
    "def target_fn(action, in_range):\n",
    "    print(action.shape, in_range.shape, action, in_range[0])\n",
    "    mask = in_range[action[None, :], jnp.arange(action.shape[0])]\n",
    "    # print(mask)\n",
    "    return mask \n",
    "\n",
    "def attacked_fn(action, in_range): # return vector of attacked agents\n",
    "    pass\n",
    "\n",
    "# def bullet_fn() returns bullet to render\n",
    "\n",
    "for _, state, actions in state_seq:\n",
    "    # IGNORE ACTIONS <= 4 as these are movement, NOT attack actions\n",
    "    # which agents are close enough to shoot?\n",
    "    dist     = vmap(dist_fn)(state.unit_positions)            # what are the distances between units\n",
    "    ranges   = env.unit_type_attack_ranges[state.unit_types]  # what are the ranges of each unit\n",
    "    in_range = dist < ranges[:, None, :]                      # mask of agents in range\n",
    "    # targets  = {agent: target_fn(action, in_range[:, idx, :]) for idx, (agent, action) in enumerate(actions.items())}\n",
    "    target_fn(actions['ally_0'], in_range[:, 0, :])\n",
    "    break\n",
    "    # targets  = {k: target_fn(action[k], in_range[i]) for i, (k, v) in enumerate(action.items())}"
   ]
  },
  {
   "cell_type": "code",
   "execution_count": null,
   "metadata": {},
   "outputs": [],
   "source": []
  },
  {
   "cell_type": "code",
   "execution_count": null,
   "metadata": {},
   "outputs": [],
   "source": []
  }
 ],
 "metadata": {
  "kernelspec": {
   "display_name": "Python 3",
   "language": "python",
   "name": "python3"
  },
  "language_info": {
   "codemirror_mode": {
    "name": "ipython",
    "version": 3
   },
   "file_extension": ".py",
   "mimetype": "text/x-python",
   "name": "python",
   "nbconvert_exporter": "python",
   "pygments_lexer": "ipython3",
   "version": "3.11.7"
  }
 },
 "nbformat": 4,
 "nbformat_minor": 2
}
