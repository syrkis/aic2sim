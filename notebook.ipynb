{
 "cells": [
  {
   "cell_type": "markdown",
   "metadata": {},
   "source": [
    "# C2SIM"
   ]
  },
  {
   "cell_type": "code",
   "execution_count": 1,
   "metadata": {},
   "outputs": [],
   "source": [
    "# imports\n",
    "import os\n",
    "import enum\n",
    "import re\n",
    "import string\n",
    "import warnings\n",
    "\n",
    "import chex\n",
    "import jax\n",
    "import jax.numpy as jnp\n",
    "import optax\n",
    "\n",
    "import tensorflow as tf\n",
    "import tensorflow_datasets as tfds\n",
    "\n",
    "from gemma import params as params_lib\n",
    "from gemma import sampler as sampler_lib\n",
    "from gemma import transformer as transformer_lib\n",
    "\n",
    "import sentencepiece as spm\n",
    "\n",
    "import kagglehub"
   ]
  },
  {
   "cell_type": "code",
   "execution_count": 2,
   "metadata": {},
   "outputs": [],
   "source": [
    "# constants\n",
    "GEMMA_VARIANT = \"2b-it\"\n",
    "GEMMA_PATH = kagglehub.model_download(f\"google/gemma/flax/{GEMMA_VARIANT}\")\n",
    "CKPT_PATH = os.path.join(GEMMA_PATH, GEMMA_VARIANT)\n",
    "TOKENIZER_PATH = os.path.join(GEMMA_PATH, \"tokenizer.model\")\n",
    "\n",
    "params = params_lib.load_and_format_params(CKPT_PATH)\n",
    "vocab = spm.SentencePieceProcessor()\n",
    "vocab.Load(TOKENIZER_PATH)\n",
    "\n",
    "transformer_config = transformer_lib.TransformerConfig.from_params(\n",
    "    params=params, cache_size=64\n",
    ")\n",
    "transformer = transformer_lib.Transformer(transformer_config)\n",
    "\n",
    "sampler = sampler_lib.Sampler(\n",
    "    transformer=transformer, vocab=vocab, params=params[\"transformer\"]\n",
    ")"
   ]
  },
  {
   "cell_type": "code",
   "execution_count": 3,
   "metadata": {},
   "outputs": [
    {
     "name": "stdout",
     "output_type": "stream",
     "text": [
      "Prompt:\n",
      "\n",
      "# What is the meaning of life?\n",
      "Output:\n",
      "\n",
      "\n",
      "The question of what the meaning of life is\n"
     ]
    }
   ],
   "source": [
    "# state\n",
    "prompt = [\n",
    "    \"\\n# What is the meaning of life?\",\n",
    "]\n",
    "\n",
    "reply = sampler(input_strings=prompt, total_generation_steps=10)\n",
    "\n",
    "for input_string, out_string in zip(prompt, reply.text):\n",
    "    print(f\"Prompt:\\n{input_string}\\nOutput:\\n{out_string}\")"
   ]
  }
 ],
 "metadata": {
  "kernelspec": {
   "display_name": "Python 3",
   "language": "python",
   "name": "python3"
  },
  "language_info": {
   "codemirror_mode": {
    "name": "ipython",
    "version": 3
   },
   "file_extension": ".py",
   "mimetype": "text/x-python",
   "name": "python",
   "nbconvert_exporter": "python",
   "pygments_lexer": "ipython3",
   "version": "3.11.7"
  }
 },
 "nbformat": 4,
 "nbformat_minor": 2
}
