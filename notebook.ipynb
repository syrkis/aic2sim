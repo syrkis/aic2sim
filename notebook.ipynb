{
 "cells": [
  {
   "cell_type": "markdown",
   "metadata": {},
   "source": [
    "# C2SIM"
   ]
  },
  {
   "cell_type": "code",
   "execution_count": 2,
   "metadata": {},
   "outputs": [],
   "source": [
    "import jax\n",
    "from jax import numpy as jnp, jit, vmap, random\n",
    "import chex\n",
    "from jaxmarl import make\n",
    "from jaxmarl.environments.smax import map_name_to_scenario\n",
    "from einops import rearrange\n",
    "from functional import partial\n",
    "\n",
    "import seaborn as sns\n",
    "from tqdm import tqdm\n",
    "import numpy as np\n",
    "from matplotlib import rcParams\n",
    "import matplotlib.pyplot as plt\n",
    "import darkdetect, imageio\n",
    "\n",
    "from src import bullet_fn, plot_fn"
   ]
  },
  {
   "cell_type": "markdown",
   "metadata": {},
   "source": [
    "## trajectories"
   ]
  },
  {
   "cell_type": "code",
   "execution_count": 3,
   "metadata": {},
   "outputs": [],
   "source": [
    "# globals\n",
    "n_envs = 6\n",
    "n_steps = 100\n",
    "scenario = \"3s5z_vs_3s6z\""
   ]
  },
  {
   "cell_type": "code",
   "execution_count": 4,
   "metadata": {},
   "outputs": [],
   "source": [
    "# iter\n",
    "def step_fn(rng, env, obs_v, old_state_v):\n",
    "    rng, act_rng, step_rng = random.split(rng, 3)\n",
    "    act_keys = random.split(act_rng, env.num_agents * n_envs).reshape(\n",
    "        env.num_agents, n_envs, -1\n",
    "    )\n",
    "    step_keys = random.split(step_rng, n_envs)\n",
    "    actions = {\n",
    "        a: action_fn(env, act_keys[i], obs_v[a], a) for i, a in enumerate(env.agents)\n",
    "    }\n",
    "    obs_v, state_v, reward_v, _, _ = vmap(env.step)(step_keys, old_state_v, actions)\n",
    "    return (rng, env, obs_v, state_v), (step_keys, old_state_v, actions), reward_v\n",
    "\n",
    "\n",
    "@partial(vmap, in_axes=(None, 0, 0, None))\n",
    "def action_fn(env, rng, obs, a):\n",
    "    return env.action_space(a).sample(rng)\n",
    "\n",
    "\n",
    "def traj_fn(rng, env):\n",
    "    rng, reset_rng = random.split(random.PRNGKey(0))\n",
    "    reset_keys = random.split(reset_rng, n_envs)\n",
    "    obs_v, state_v = vmap(env.reset)(reset_keys)\n",
    "    traj_state = (rng, env, obs_v, state_v)\n",
    "    state_seq, reward_seq = [], []\n",
    "    for _ in tqdm(range(n_steps)):\n",
    "        traj_state, state_v, reward_v = step_fn(*traj_state)\n",
    "        state_seq, reward_seq = state_seq + [state_v], reward_seq + [reward_v]\n",
    "    return state_seq, reward_seq"
   ]
  },
  {
   "cell_type": "code",
   "execution_count": 6,
   "metadata": {},
   "outputs": [
    {
     "name": "stderr",
     "output_type": "stream",
     "text": [
      "100%|██████████| 100/100 [00:03<00:00, 31.85it/s]\n",
      "100%|██████████| 100/100 [00:00<00:00, 101.07it/s]\n",
      " 74%|███████▍  | 590/800 [01:26<00:28,  7.32it/s]"
     ]
    }
   ],
   "source": [
    "env = make(\"SMAX\", scenario=map_name_to_scenario(scenario))\n",
    "rng, key = random.split(random.PRNGKey(0))\n",
    "state_seq, reward_seq = traj_fn(key, env)\n",
    "plot_fn(env, state_seq, reward_seq, expand=True)"
   ]
  },
  {
   "cell_type": "markdown",
   "metadata": {},
   "source": [
    "## plotting"
   ]
  },
  {
   "cell_type": "code",
   "execution_count": 7,
   "metadata": {},
   "outputs": [],
   "source": []
  }
 ],
 "metadata": {
  "kernelspec": {
   "display_name": "Python 3",
   "language": "python",
   "name": "python3"
  },
  "language_info": {
   "codemirror_mode": {
    "name": "ipython",
    "version": 3
   },
   "file_extension": ".py",
   "mimetype": "text/x-python",
   "name": "python",
   "nbconvert_exporter": "python",
   "pygments_lexer": "ipython3",
   "version": "3.11.7"
  }
 },
 "nbformat": 4,
 "nbformat_minor": 2
}
