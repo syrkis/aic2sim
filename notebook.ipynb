{
 "cells": [
  {
   "cell_type": "markdown",
   "metadata": {},
   "source": [
    "# C2SIM"
   ]
  },
  {
   "cell_type": "code",
   "execution_count": 1,
   "metadata": {},
   "outputs": [],
   "source": [
    "import jax\n",
    "import chex\n",
    "import ollama\n",
    "from jax import numpy as jnp, jit, vmap, random\n",
    "from jaxmarl import make\n",
    "from jaxmarl.environments.smax import map_name_to_scenario\n",
    "\n",
    "from einops import rearrange\n",
    "from functional import partial\n",
    "from tqdm import tqdm\n",
    "\n",
    "from src import plot_fn"
   ]
  },
  {
   "cell_type": "markdown",
   "metadata": {},
   "source": [
    "## trajectories"
   ]
  },
  {
   "cell_type": "code",
   "execution_count": 2,
   "metadata": {},
   "outputs": [],
   "source": [
    "# globals\n",
    "n_envs = 10\n",
    "n_steps = 100\n",
    "scenario = \"3s5z_vs_3s6z\"\n",
    "num_allies = 10\n",
    "num_enemies = 10"
   ]
  },
  {
   "cell_type": "code",
   "execution_count": 3,
   "metadata": {},
   "outputs": [],
   "source": [
    "def step_fn(rng, old_state_v, env, obs_v):\n",
    "    rng, act_rng, step_rng = random.split(rng, 3)\n",
    "    act_keys = random.split(act_rng, env.num_agents * n_envs).reshape(\n",
    "        env.num_agents, n_envs, -1\n",
    "    )\n",
    "    step_keys = random.split(step_rng, n_envs)\n",
    "    actions = {\n",
    "        a: action_fn(env, act_keys[i], obs_v[a], a) for i, a in enumerate(env.agents)\n",
    "    }\n",
    "    obs_v, state_v, reward_v, _, _ = vmap(env.step)(step_keys, old_state_v, actions)\n",
    "    # old_state_v = old_state_v if env.name == \"SMAX\" else old_state_v.state\n",
    "    return obs_v, (rng, state_v), (step_keys, old_state_v, actions), reward_v\n",
    "\n",
    "\n",
    "@partial(vmap, in_axes=(None, 0, 0, None))\n",
    "def action_fn(env, rng, obs, a):\n",
    "    return env.action_space(a).sample(rng)\n",
    "\n",
    "\n",
    "def traj_fn(rng, env):\n",
    "    rng, reset_rng = random.split(random.PRNGKey(0))\n",
    "    reset_keys = random.split(reset_rng, n_envs)\n",
    "    obs_v, state_v = vmap(env.reset)(reset_keys)\n",
    "    traj_state = (rng, state_v)\n",
    "    state_seq, reward_seq = [], []\n",
    "    for _ in tqdm(range(n_steps)):\n",
    "        step = partial(step_fn, env=env, obs_v=obs_v)\n",
    "        obs_v, traj_state, state_v, reward_v = step(*traj_state)\n",
    "        state_seq, reward_seq = state_seq + [state_v], reward_seq + [reward_v]\n",
    "    return state_seq, reward_seq"
   ]
  },
  {
   "cell_type": "code",
   "execution_count": 4,
   "metadata": {},
   "outputs": [
    {
     "name": "stderr",
     "output_type": "stream",
     "text": [
      "100%|██████████| 100/100 [00:03<00:00, 29.46it/s]\n",
      "100%|██████████| 100/100 [00:00<00:00, 133.46it/s]\n",
      "100%|██████████| 800/800 [01:45<00:00,  7.58it/s]\n"
     ]
    }
   ],
   "source": [
    "# scenario=map_name_to_scenario(scenario))  # TODO: allow HeuristicSMAX\n",
    "env = make(\"SMAX\", num_allies=num_allies, num_enemies=num_enemies)\n",
    "rng, key = random.split(random.PRNGKey(0))\n",
    "state_seq, reward_seq = traj_fn(key, env)\n",
    "plot_fn(env, state_seq, reward_seq, expand=True)"
   ]
  },
  {
   "cell_type": "markdown",
   "metadata": {},
   "source": [
    "## language model"
   ]
  },
  {
   "cell_type": "code",
   "execution_count": 5,
   "metadata": {},
   "outputs": [
    {
     "name": "stdout",
     "output_type": "stream",
     "text": [
      "```yaml\n",
      "version: \"1.0\"\n",
      "actions:\n",
      "- name: Select_Unit\n",
      "  description: Selects a unit of the specified type.\n",
      "  parameters:\n",
      "    - name: unitType\n",
      "      in: int\n",
      "      required: true\n",
      "      desc: The type of unit to select.\n",
      "- name: Move_Unit\n",
      "  description: Moves a unit to a specified location.\n",
      "  parameters:\n",
      "    - name: x\n",
      "      in: float\n",
      "      required: true\n",
      "      desc: The x coordinate of the destination.\n",
      "    - name: y\n",
      "      in: float\n",
      "      required: true\n",
      "      desc: The y coordinate of the destination.\n",
      "- name: Attack_Unit\n",
      "  description: Attacks a specified enemy unit.\n",
      "  parameters:\n",
      "    - name: targetType\n",
      "      in: int\n",
      "      required: true\n",
      "      desc: The type of the enemy unit to attack.\n",
      "    - name: targetID\n",
      "      in: int\n",
      "      required: true\n",
      "      desc: The ID of the enemy unit to attack.\n",
      "\n",
      "tasks:\n",
      "- name: Select_And_Move_Unit\n",
      "  description: Selects a unit of the specified type and moves it to a specified location.\n",
      "  requirements:\n",
      "    - Select_Unit\n",
      "    - Move_Unit\n",
      "  parameters:\n",
      "    - name: unitType\n",
      "      in: int\n",
      "      required: true\n",
      "      desc: The type of unit to select.\n",
      "    - name: x\n",
      "      in: float\n",
      "      required: true\n",
      "      desc: The x coordinate of the destination.\n",
      "    - name: y\n",
      "      in: float\n",
      "      required: true\n",
      "      desc: The y coordinate of the destination.\n",
      "- name: Attack_Enemy_Unit\n",
      "  description: Attacks a specified enemy unit.\n",
      "  requirements:\n",
      "    - Attack_Unit\n",
      "  parameters:\n",
      "    - name: targetType\n",
      "      in: int\n",
      "      required: true\n",
      "      desc: The type of the enemy unit to attack.\n",
      "    - name: targetID\n",
      "      in: int\n",
      "      required: true\n",
      "      desc: The ID of the enemy unit to attack.\n",
      "```\n"
     ]
    }
   ],
   "source": [
    "model = \"mistral:7b-instruct-q2_K\"\n",
    "template = \"\"\"\"\n",
    "return a .yaml behavior tree for a StarCraft II agent.\n",
    "Return no other text.\n",
    "\"\"\"\n",
    "response = ollama.chat(\n",
    "    model=model,\n",
    "    messages=[\n",
    "        {\n",
    "            \"role\": \"user\",\n",
    "            \"content\": template,\n",
    "        },\n",
    "    ],\n",
    ")\n",
    "print(response[\"message\"][\"content\"])"
   ]
  },
  {
   "cell_type": "code",
   "execution_count": null,
   "metadata": {},
   "outputs": [],
   "source": []
  }
 ],
 "metadata": {
  "kernelspec": {
   "display_name": "Python 3",
   "language": "python",
   "name": "python3"
  },
  "language_info": {
   "codemirror_mode": {
    "name": "ipython",
    "version": 3
   },
   "file_extension": ".py",
   "mimetype": "text/x-python",
   "name": "python",
   "nbconvert_exporter": "python",
   "pygments_lexer": "ipython3",
   "version": "3.11.7"
  }
 },
 "nbformat": 4,
 "nbformat_minor": 2
}
