{
 "cells": [
  {
   "cell_type": "code",
   "execution_count": 292,
   "metadata": {},
   "outputs": [],
   "source": [
    "import jax\n",
    "from jax import numpy as jnp, jit, vmap, random\n",
    "from jaxmarl import make\n",
    "from jaxmarl.environments.smax import map_name_to_scenario, SMAX\n",
    "from jaxmarl.viz.visualizer import SMAXVisualizer, Visualizer\n",
    "from jaxmarl.environments.smax.smax_env import State as SMAXState  # use to unstack state carry from lax scan\n",
    "\n",
    "from matplotlib import rcParams\n",
    "from tqdm import tqdm\n",
    "from functional import partial\n",
    "import numpy as np\n",
    "import matplotlib.pyplot as plt\n",
    "import imageio\n",
    "import imageio_ffmpeg  # Make sure this is installed\n",
    "import darkdetect\n",
    "\n",
    "import esch"
   ]
  },
  {
   "cell_type": "code",
   "execution_count": 293,
   "metadata": {},
   "outputs": [],
   "source": [
    "# globals\n",
    "rcParams['font.family'] = 'monospace'\n",
    "rcParams['font.monospace'] = 'Fira Code'\n",
    "bg = 'black' if darkdetect.isDark() else 'white'\n",
    "ink = 'black' if bg == 'white' else 'white'\n",
    "markers = {0: 'o', 1: 's', 2: 'D', 3: '^', 4: '<', 5: '>', 6: '+'}"
   ]
  },
  {
   "cell_type": "markdown",
   "metadata": {},
   "source": [
    "# Vanilla"
   ]
  },
  {
   "cell_type": "code",
   "execution_count": 294,
   "metadata": {},
   "outputs": [],
   "source": [
    "# globals\n",
    "n_envs  = 6\n",
    "n_steps = 100\n",
    "scenario = '3s5z_vs_3s6z'"
   ]
  },
  {
   "cell_type": "code",
   "execution_count": 295,
   "metadata": {},
   "outputs": [],
   "source": [
    "# iter\n",
    "def step_fn(rng, env, obs_v, old_state_v):\n",
    "    rng, act_rng, step_rng         = random.split(rng, 3)\n",
    "    act_keys                       = random.split(act_rng, env.num_agents * n_envs).reshape(env.num_agents, n_envs, -1)\n",
    "    step_keys                      = random.split(step_rng, n_envs)\n",
    "    actions                        = {a: vmap(env.action_space(a).sample)(act_keys[i]) for i, a in enumerate(env.agents)}\n",
    "    obs_v, state_v, reward_v, _, _ = vmap(env.step)(step_keys, old_state_v, actions)\n",
    "    return (rng, env, obs_v, state_v), (step_keys, old_state_v, actions), reward_v\n",
    "\n",
    "def traj_fn(rng, env):\n",
    "    rng, reset_rng        = random.split(random.PRNGKey(0))\n",
    "    reset_keys            = random.split(reset_rng, n_envs)\n",
    "    obs_v, state_v        = vmap(env.reset)(reset_keys)\n",
    "    traj_state            = (rng, env, obs_v, state_v)\n",
    "    state_seq, reward_seq = [], []\n",
    "    for step in tqdm(range(n_steps)):\n",
    "        traj_state, state_v, reward_v = step_fn(*traj_state)\n",
    "        state_seq, reward_seq         = state_seq + [state_v], reward_seq + [reward_v]\n",
    "    return state_seq, reward_seq"
   ]
  },
  {
   "cell_type": "code",
   "execution_count": 296,
   "metadata": {},
   "outputs": [
    {
     "name": "stderr",
     "output_type": "stream",
     "text": [
      "100%|██████████| 100/100 [00:03<00:00, 29.74it/s]\n"
     ]
    }
   ],
   "source": [
    "env                   = make('SMAX', scenario=map_name_to_scenario(scenario))\n",
    "rng, key              = random.split(random.PRNGKey(0))\n",
    "state_seq, reward_seq = traj_fn(key, env,) "
   ]
  },
  {
   "cell_type": "code",
   "execution_count": 297,
   "metadata": {},
   "outputs": [],
   "source": [
    "def plot_fn(env, state_seq, reward_seq, expand=False):\n",
    "    state_seq  = state_seq if not expand else vmap(env.expand_state_seq)(state_seq)\n",
    "    frames     = []\n",
    "    unit_types = np.unique(np.array(state_seq[0][1].unit_types))\n",
    "    for jdx, (_, state, action) in tqdm(enumerate(state_seq), total=len(state_seq)):\n",
    "        reward    = reward_seq[jdx // 8 if expand else jdx]\n",
    "        fills     = np.where(np.array(state.unit_teams) == 1, ink, 'None')\n",
    "        fig, axes = plt.subplots(2, 3, figsize=(17.92, 12.16), facecolor=bg, dpi=100)\n",
    "        for idx, ax in zip(range(n_envs), axes.flatten()):\n",
    "            ax_fn(ax, state, reward, idx)\n",
    "            for unit_type in unit_types:\n",
    "                kdx = state.unit_types[idx, :] == unit_type         # unit_type idxs\n",
    "                x   = state.unit_positions[idx, kdx, 0]         # x coord\n",
    "                y   = state.unit_positions[idx, kdx, 1]         # y coord\n",
    "                c   = fills[idx, kdx]                           # color \n",
    "                s   = state.unit_health[idx, kdx] ** 1.5 * 0.2  # size \n",
    "                ax.scatter(x, y, s=s, c=c, edgecolor=ink, marker=markers[unit_type.item()])\n",
    "        frames.append(frame_fn(fig, jdx // 8 if expand else jdx))\n",
    "    imageio.mimsave(f'docs/figs/worlds_{bg}.mov', frames, fps=24 if expand else 6)\n",
    "    \n",
    "def frame_fn(fig, idx):\n",
    "    title = f\"step : {str(idx).zfill(len(str(n_steps - 1)))}     model : random     env : {scenario}\"\n",
    "    fig.text(0.01, 0.5, title, va='center', rotation='vertical', fontsize=20, color=ink)\n",
    "    plt.subplots_adjust(left=0.05, bottom=0.05, right=0.95, top=0.95, wspace=0.3, hspace=0.3)\n",
    "    fig.canvas.draw()\n",
    "    frame = np.frombuffer(fig.canvas.buffer_rgba(), dtype=np.uint8)\n",
    "    frame = frame.reshape(fig.canvas.get_width_height()[::-1] + (4,))[:, :, :3]\n",
    "    plt.savefig(f'docs/figs/worlds_{bg}.jpg', dpi=200)\n",
    "    plt.close()   # close fig\n",
    "    return frame\n",
    "\n",
    "def ax_fn(ax, state, reward, idx):\n",
    "    ally_rewards = sum([v[idx] for k, v in reward.items() if k.startswith('ally')])\n",
    "    enemy_rewards = sum([v[idx] for k, v in reward.items() if k.startswith('enemy')])\n",
    "    ax.set_xlabel(\"{:.3f} | {:.3f}\".format(ally_rewards, enemy_rewards))\n",
    "    ax.set_title(f\"simulation {idx+1}\", color=ink)\n",
    "    ax.set_facecolor(bg)\n",
    "    ticks = np.arange(2, 31, 4)  # Assuming your grid goes from 0 to 32\n",
    "    ax.set_xticks(ticks)\n",
    "    ax.set_yticks(ticks)\n",
    "    ax.tick_params(colors=ink, direction='in', length=6, width=1, which='both',\n",
    "        top=True, bottom=True, left=True, right=True, labelleft=False, labelbottom=False)\n",
    "    ax.spines['top'].set_color(ink)\n",
    "    ax.spines['bottom'].set_color(ink)\n",
    "    ax.spines['left'].set_color(ink)\n",
    "    ax.spines['right'].set_color(ink)\n",
    "    ax.set_aspect('equal')\n",
    "    ax.set_xlim(-2, 34)\n",
    "    ax.set_ylim(-2, 34)"
   ]
  },
  {
   "cell_type": "code",
   "execution_count": 298,
   "metadata": {},
   "outputs": [
    {
     "name": "stderr",
     "output_type": "stream",
     "text": [
      " 70%|███████   | 560/800 [03:05<01:16,  3.16it/s]"
     ]
    }
   ],
   "source": [
    "plot_fn(env, state_seq, reward_seq, expand=True)"
   ]
  },
  {
   "cell_type": "code",
   "execution_count": null,
   "metadata": {},
   "outputs": [],
   "source": []
  }
 ],
 "metadata": {
  "kernelspec": {
   "display_name": "Python 3",
   "language": "python",
   "name": "python3"
  },
  "language_info": {
   "codemirror_mode": {
    "name": "ipython",
    "version": 3
   },
   "file_extension": ".py",
   "mimetype": "text/x-python",
   "name": "python",
   "nbconvert_exporter": "python",
   "pygments_lexer": "ipython3",
   "version": "3.11.7"
  }
 },
 "nbformat": 4,
 "nbformat_minor": 2
}
