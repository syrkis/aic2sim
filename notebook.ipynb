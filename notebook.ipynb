{
 "cells": [
  {
   "cell_type": "markdown",
   "metadata": {},
   "source": [
    "# C2SIM"
   ]
  },
  {
   "cell_type": "code",
   "execution_count": 1,
   "metadata": {},
   "outputs": [],
   "source": [
    "import jax\n",
    "from jax import numpy as jnp, jit, vmap, random\n",
    "import chex\n",
    "from jaxmarl import make\n",
    "from jaxmarl.environments.smax import map_name_to_scenario\n",
    "from einops import rearrange\n",
    "from functional import partial\n",
    "\n",
    "import seaborn as sns\n",
    "from tqdm import tqdm\n",
    "import numpy as np\n",
    "from matplotlib import rcParams\n",
    "import matplotlib.pyplot as plt\n",
    "import darkdetect, imageio"
   ]
  },
  {
   "cell_type": "code",
   "execution_count": 2,
   "metadata": {},
   "outputs": [],
   "source": [
    "# globals\n",
    "rcParams[\"font.family\"] = \"monospace\"\n",
    "rcParams[\"font.monospace\"] = \"Fira Code\"\n",
    "bg = \"black\" if darkdetect.isDark() else \"white\"\n",
    "ink = \"white\" if bg == \"black\" else \"black\"\n",
    "markers = {0: \"o\", 1: \"s\", 2: \"D\", 3: \"^\", 4: \"<\", 5: \">\", 6: \"+\"}"
   ]
  },
  {
   "cell_type": "markdown",
   "metadata": {},
   "source": [
    "## Classes"
   ]
  },
  {
   "cell_type": "code",
   "execution_count": 3,
   "metadata": {},
   "outputs": [],
   "source": [
    "@chex.dataclass\n",
    "class Config:\n",
    "    env_name: str = \"smax\"\n",
    "    scenario: str = \"simple_wood_and_stone\""
   ]
  },
  {
   "cell_type": "markdown",
   "metadata": {},
   "source": [
    "# Vanilla"
   ]
  },
  {
   "cell_type": "code",
   "execution_count": 25,
   "metadata": {},
   "outputs": [],
   "source": [
    "# globals\n",
    "n_envs = 6\n",
    "n_steps = 100\n",
    "scenario = \"3s5z_vs_3s6z\""
   ]
  },
  {
   "cell_type": "code",
   "execution_count": 26,
   "metadata": {},
   "outputs": [],
   "source": [
    "# iter\n",
    "def step_fn(rng, env, obs_v, old_state_v):\n",
    "    rng, act_rng, step_rng = random.split(rng, 3)\n",
    "    act_keys = random.split(act_rng, env.num_agents * n_envs).reshape(\n",
    "        env.num_agents, n_envs, -1\n",
    "    )\n",
    "    step_keys = random.split(step_rng, n_envs)\n",
    "    actions = {\n",
    "        a: action_fn(env, act_keys[i], obs_v[a], a) for i, a in enumerate(env.agents)\n",
    "    }\n",
    "    obs_v, state_v, reward_v, _, _ = vmap(env.step)(step_keys, old_state_v, actions)\n",
    "    return (rng, env, obs_v, state_v), (step_keys, old_state_v, actions), reward_v\n",
    "\n",
    "\n",
    "@partial(vmap, in_axes=(None, 0, 0, None))\n",
    "def action_fn(env, rng, obs, a):\n",
    "    return env.action_space(a).sample(rng)\n",
    "\n",
    "\n",
    "def traj_fn(rng, env):\n",
    "    rng, reset_rng = random.split(random.PRNGKey(0))\n",
    "    reset_keys = random.split(reset_rng, n_envs)\n",
    "    obs_v, state_v = vmap(env.reset)(reset_keys)\n",
    "    traj_state = (rng, env, obs_v, state_v)\n",
    "    state_seq, reward_seq = [], []\n",
    "    for _ in tqdm(range(n_steps)):\n",
    "        traj_state, state_v, reward_v = step_fn(*traj_state)\n",
    "        state_seq, reward_seq = state_seq + [state_v], reward_seq + [reward_v]\n",
    "    return state_seq, reward_seq"
   ]
  },
  {
   "cell_type": "code",
   "execution_count": 27,
   "metadata": {},
   "outputs": [
    {
     "name": "stderr",
     "output_type": "stream",
     "text": [
      "100%|██████████| 100/100 [00:03<00:00, 31.80it/s]\n"
     ]
    }
   ],
   "source": [
    "env = make(\"SMAX\", scenario=map_name_to_scenario(scenario))\n",
    "rng, key = random.split(random.PRNGKey(0))\n",
    "state_seq, reward_seq = traj_fn(key, env)"
   ]
  },
  {
   "cell_type": "markdown",
   "metadata": {},
   "source": [
    "# forensics"
   ]
  },
  {
   "cell_type": "code",
   "execution_count": 28,
   "metadata": {},
   "outputs": [],
   "source": [
    "def dist_fn(pos):  # computing the distances between all ally and enemy agents\n",
    "    delta = pos[None, :, :] - pos[:, None, :]\n",
    "    dist = jnp.sqrt((delta**2).sum(axis=2))\n",
    "    dist = dist[: env.num_allies, env.num_allies :]\n",
    "    return {\"ally\": dist, \"enemy\": dist.T}\n",
    "\n",
    "\n",
    "def range_fn(dists, ranges):  # computing what targets are in range\n",
    "    ally_range = dists[\"ally\"] < ranges[: env.num_allies][:, None]\n",
    "    enemy_range = dists[\"enemy\"] < ranges[env.num_allies :][:, None]\n",
    "    return {\"ally\": ally_range, \"enemy\": enemy_range}\n",
    "\n",
    "\n",
    "def target_fn(acts, in_range, team):  # computing the one hot valid targets\n",
    "    t_acts = jnp.stack([v for k, v in acts.items() if k.startswith(team)]).T\n",
    "    t_targets = jnp.where(t_acts - 5 < 0, -1, t_acts - 5)  # first 5 are move actions\n",
    "    t_attacks = jnp.eye(in_range[team].shape[2] + 1)[t_targets][:, :, :-1]\n",
    "    return t_attacks * in_range[team]  # one hot valid targets\n",
    "\n",
    "\n",
    "def attack_fn(state_seq, attacks=[]):  # one hot attack list [(team, sim, ally, enemy)]\n",
    "    for _, state, acts in tqdm(state_seq):\n",
    "        dists = vmap(dist_fn)(state.unit_positions)\n",
    "        ranges = env.unit_type_attack_ranges[state.unit_types]\n",
    "        in_range = vmap(range_fn)(dists, ranges)\n",
    "        target = partial(target_fn, acts, in_range)\n",
    "        attack = {\"ally\": target(\"ally\"), \"enemy\": target(\"enemy\")}\n",
    "        attacks.append(attack)\n",
    "    return attacks\n",
    "\n",
    "\n",
    "def bullet_fn(state_seq, bullet_seq=[]):\n",
    "    attack_seq = attack_fn(state_seq)\n",
    "\n",
    "    def aux_fn(team):\n",
    "        bullets = jnp.stack(jnp.where(one_hot[team] == 1)).T\n",
    "        bullets = bullets.at[:, 2 if team == \"ally\" else 1].add(env.num_allies)\n",
    "        return bullets\n",
    "\n",
    "    for idx, (_, state, _) in tqdm(enumerate(state_seq), total=len(state_seq)):\n",
    "        one_hot = attack_seq[idx]\n",
    "        bullets = jnp.concatenate(list(map(aux_fn, [\"ally\", \"enemy\"])), axis=0)\n",
    "        bullets_source = state.unit_positions[bullets[:, 0], bullets[:, 1], ...]\n",
    "        bullets_target = state.unit_positions[bullets[:, 0], bullets[:, 2], ...]\n",
    "        bullets = jnp.concatenate([bullets, bullets_source, bullets_target], axis=1)\n",
    "        bullet_seq.append(bullets)\n",
    "    return bullet_seq"
   ]
  },
  {
   "cell_type": "markdown",
   "metadata": {},
   "source": [
    "# plotting"
   ]
  },
  {
   "cell_type": "code",
   "execution_count": 23,
   "metadata": {},
   "outputs": [],
   "source": [
    "def plot_fn(env, state_seq, reward_seq, expand=False):\n",
    "    bullet_seq = bullet_fn(state_seq) if expand else None\n",
    "    state_seq = state_seq if not expand else vmap(env.expand_state_seq)(state_seq)\n",
    "    frames, returns = [], return_fn(reward_seq)\n",
    "    unit_types = np.unique(np.array(state_seq[0][1].unit_types))\n",
    "    fills = np.where(np.array(state_seq[0][1].unit_teams) == 1, ink, \"None\")\n",
    "    for i, (_, state, action) in tqdm(enumerate(state_seq), total=len(state_seq)):\n",
    "        fig, axes = plt.subplots(2, 3, figsize=(18, 12), facecolor=bg, dpi=100)\n",
    "        # [[ 1.        1.       13.       16.139389 19.965769 21.064068 21.61848 ]]  # sim, source, target, source_pos, target_pos\n",
    "        # [[ 1.        1.       13.       16.139389 19.965769 21.064068 21.61848 ]]  # sim, source, target, source_pos, target_pos\n",
    "        bullets = bullet_seq[i // 8] if expand else None\n",
    "        for j, ax in zip(range(n_envs), axes.flatten()):\n",
    "            ax_fn(ax, state, returns, bullets, i, j)  # setup axis theme\n",
    "            for unit_type in unit_types:\n",
    "                idx = state.unit_types[j, :] == unit_type  # unit_type idxs\n",
    "                x = state.unit_positions[j, idx, 0]  # x coord\n",
    "                y = state.unit_positions[j, idx, 1]  # y coord\n",
    "                c = fills[j, idx]  # color\n",
    "                s = state.unit_health[j, idx] ** 1.5 * 0.1  # size\n",
    "                ax.scatter(x, y, s=s, c=c, edgecolor=ink, marker=markers[unit_type])\n",
    "        frames.append(frame_fn(fig, i // 8 if expand else i))\n",
    "    fname = f\"docs/figs/worlds_{bg}{'_laggy' if not expand else ''}.mp4\"\n",
    "    imageio.mimsave(fname, frames, fps=24 if expand else 3)\n",
    "\n",
    "\n",
    "def return_fn(reward_seq):\n",
    "    reward = [reward_fn(reward) for reward in reward_seq]\n",
    "    ally = jnp.stack([v[0] for v in reward]).cumsum(axis=0)\n",
    "    enemy = jnp.stack([v[1] for v in reward]).cumsum(axis=0)\n",
    "    return {\"ally\": ally, \"enemy\": enemy}\n",
    "\n",
    "\n",
    "def reward_fn(reward):\n",
    "    ally_rewards = jnp.stack([v for k, v in reward.items() if k.startswith(\"ally\")])\n",
    "    enemy_rewards = jnp.stack([v for k, v in reward.items() if k.startswith(\"enemy\")])\n",
    "    return ally_rewards.sum(axis=0), enemy_rewards.sum(axis=0)\n",
    "\n",
    "\n",
    "def frame_fn(fig, idx):\n",
    "    title = f\"step : {str(idx).zfill(len(str(n_steps - 1)))}     model : random     env : {scenario}\"\n",
    "    fig.text(0.01, 0.5, title, va=\"center\", rotation=\"vertical\", fontsize=20, color=ink)\n",
    "    sublot_params = {\"hspace\": 0.3, \"wspace\": 0.3, \"left\": 0.05, \"right\": 0.95}\n",
    "    plt.subplots_adjust(**sublot_params)\n",
    "    fig.canvas.draw()\n",
    "    frame = np.frombuffer(fig.canvas.buffer_rgba(), dtype=np.uint8)\n",
    "    frame = frame.reshape(fig.canvas.get_width_height()[::-1] + (4,))[:, :, :3]\n",
    "    if idx == n_steps - 1:\n",
    "        plt.savefig(f\"docs/figs/worlds_{bg}.jpg\", dpi=200)\n",
    "    plt.close()  # close fig\n",
    "    return frame\n",
    "\n",
    "\n",
    "tick_params = {\n",
    "    \"colors\": ink,\n",
    "    \"direction\": \"in\",\n",
    "    \"length\": 6,\n",
    "    \"width\": 1,\n",
    "    \"which\": \"both\",\n",
    "    \"top\": True,\n",
    "    \"bottom\": True,\n",
    "    \"left\": True,\n",
    "    \"right\": True,\n",
    "    \"labelleft\": False,\n",
    "    \"labelbottom\": False,\n",
    "}\n",
    "\n",
    "\n",
    "def ax_fn(ax, state, returns, bullets, i, j):\n",
    "    if bullets is not None:\n",
    "        idx = bullets[:, 0] == j\n",
    "        alpha = i % 8 / 8\n",
    "        # if there are any bullets pring (yay)\n",
    "        if idx.any():\n",
    "            print(9)\n",
    "        pos = (1 - alpha) * bullets[idx, 3:5] + alpha * bullets[idx, 5:]\n",
    "        ax.scatter(pos[:, 0], pos[:, 1], s=10, c=ink, marker=\"o\")\n",
    "    ally_return = returns[\"ally\"][i, j]\n",
    "    enemy_return = returns[\"enemy\"][i, j]\n",
    "    ax.set_xlabel(\"{:.3f} | {:.3f}\".format(ally_return, enemy_return), color=ink)\n",
    "    ax.set_title(f\"simulation {j+1}\", color=ink)\n",
    "    ax.set_facecolor(bg)\n",
    "    ticks = np.arange(2, 31, 4)  # Assuming your grid goes from 0 to 32\n",
    "    ax.set_xticks(ticks)\n",
    "    ax.set_yticks(ticks)\n",
    "    ax.tick_params(**tick_params)\n",
    "    ax.spines[\"top\"].set_color(ink)\n",
    "    ax.spines[\"bottom\"].set_color(ink)\n",
    "    ax.spines[\"left\"].set_color(ink)\n",
    "    ax.spines[\"right\"].set_color(ink)\n",
    "    ax.set_aspect(\"equal\")\n",
    "    ax.set_xlim(-2, 34)\n",
    "    ax.set_ylim(-2, 34)"
   ]
  },
  {
   "cell_type": "code",
   "execution_count": 24,
   "metadata": {},
   "outputs": [
    {
     "name": "stderr",
     "output_type": "stream",
     "text": [
      "100%|██████████| 48/48 [00:00<00:00, 211.39it/s]\n",
      "100%|██████████| 48/48 [00:00<00:00, 412.97it/s]\n",
      " 59%|█████▊    | 225/384 [00:35<01:02,  2.55it/s]"
     ]
    },
    {
     "name": "stdout",
     "output_type": "stream",
     "text": [
      "9\n",
      "9\n"
     ]
    },
    {
     "name": "stderr",
     "output_type": "stream",
     "text": [
      " 59%|█████▉    | 227/384 [00:36<00:41,  3.80it/s]"
     ]
    },
    {
     "name": "stdout",
     "output_type": "stream",
     "text": [
      "9\n",
      "9\n"
     ]
    },
    {
     "name": "stderr",
     "output_type": "stream",
     "text": [
      " 60%|█████▉    | 229/384 [00:36<00:30,  5.02it/s]"
     ]
    },
    {
     "name": "stdout",
     "output_type": "stream",
     "text": [
      "9\n",
      "9\n"
     ]
    },
    {
     "name": "stderr",
     "output_type": "stream",
     "text": [
      " 60%|██████    | 231/384 [00:36<00:25,  5.94it/s]"
     ]
    },
    {
     "name": "stdout",
     "output_type": "stream",
     "text": [
      "9\n",
      "9\n"
     ]
    },
    {
     "name": "stderr",
     "output_type": "stream",
     "text": [
      " 61%|██████    | 233/384 [00:37<00:23,  6.53it/s]"
     ]
    },
    {
     "name": "stdout",
     "output_type": "stream",
     "text": [
      "9\n",
      "9\n"
     ]
    },
    {
     "name": "stderr",
     "output_type": "stream",
     "text": [
      " 61%|██████    | 235/384 [00:37<00:21,  6.78it/s]"
     ]
    },
    {
     "name": "stdout",
     "output_type": "stream",
     "text": [
      "9\n",
      "9\n"
     ]
    },
    {
     "name": "stderr",
     "output_type": "stream",
     "text": [
      " 62%|██████▏   | 237/384 [00:37<00:21,  6.90it/s]"
     ]
    },
    {
     "name": "stdout",
     "output_type": "stream",
     "text": [
      "9\n",
      "9\n"
     ]
    },
    {
     "name": "stderr",
     "output_type": "stream",
     "text": [
      " 62%|██████▏   | 239/384 [00:37<00:21,  6.78it/s]"
     ]
    },
    {
     "name": "stdout",
     "output_type": "stream",
     "text": [
      "9\n",
      "9\n"
     ]
    },
    {
     "name": "stderr",
     "output_type": "stream",
     "text": [
      " 69%|██████▉   | 265/384 [00:41<00:16,  7.41it/s]"
     ]
    },
    {
     "name": "stdout",
     "output_type": "stream",
     "text": [
      "9\n",
      "9\n"
     ]
    },
    {
     "name": "stderr",
     "output_type": "stream",
     "text": [
      " 70%|██████▉   | 267/384 [00:41<00:15,  7.42it/s]"
     ]
    },
    {
     "name": "stdout",
     "output_type": "stream",
     "text": [
      "9\n",
      "9\n"
     ]
    },
    {
     "name": "stderr",
     "output_type": "stream",
     "text": [
      " 70%|███████   | 269/384 [00:42<00:15,  7.36it/s]"
     ]
    },
    {
     "name": "stdout",
     "output_type": "stream",
     "text": [
      "9\n",
      "9\n"
     ]
    },
    {
     "name": "stderr",
     "output_type": "stream",
     "text": [
      " 71%|███████   | 271/384 [00:42<00:15,  7.28it/s]"
     ]
    },
    {
     "name": "stdout",
     "output_type": "stream",
     "text": [
      "9\n",
      "9\n"
     ]
    },
    {
     "name": "stderr",
     "output_type": "stream",
     "text": [
      " 88%|████████▊ | 337/384 [00:52<00:06,  7.07it/s]"
     ]
    },
    {
     "name": "stdout",
     "output_type": "stream",
     "text": [
      "9\n",
      "9\n"
     ]
    },
    {
     "name": "stderr",
     "output_type": "stream",
     "text": [
      " 88%|████████▊ | 339/384 [00:52<00:06,  7.10it/s]"
     ]
    },
    {
     "name": "stdout",
     "output_type": "stream",
     "text": [
      "9\n",
      "9\n"
     ]
    },
    {
     "name": "stderr",
     "output_type": "stream",
     "text": [
      " 89%|████████▉ | 341/384 [00:52<00:06,  7.15it/s]"
     ]
    },
    {
     "name": "stdout",
     "output_type": "stream",
     "text": [
      "9\n",
      "9\n"
     ]
    },
    {
     "name": "stderr",
     "output_type": "stream",
     "text": [
      " 89%|████████▉ | 343/384 [00:53<00:05,  6.93it/s]"
     ]
    },
    {
     "name": "stdout",
     "output_type": "stream",
     "text": [
      "9\n",
      "9\n"
     ]
    },
    {
     "name": "stderr",
     "output_type": "stream",
     "text": [
      " 92%|█████████▏| 353/384 [00:54<00:04,  7.40it/s]"
     ]
    },
    {
     "name": "stdout",
     "output_type": "stream",
     "text": [
      "9\n",
      "9\n"
     ]
    },
    {
     "name": "stderr",
     "output_type": "stream",
     "text": [
      " 92%|█████████▏| 355/384 [00:54<00:04,  7.24it/s]"
     ]
    },
    {
     "name": "stdout",
     "output_type": "stream",
     "text": [
      "9\n"
     ]
    },
    {
     "name": "stderr",
     "output_type": "stream",
     "text": [
      " 93%|█████████▎| 356/384 [00:56<00:14,  1.99it/s]"
     ]
    },
    {
     "name": "stdout",
     "output_type": "stream",
     "text": [
      "9\n",
      "9\n"
     ]
    },
    {
     "name": "stderr",
     "output_type": "stream",
     "text": [
      " 93%|█████████▎| 358/384 [00:56<00:08,  3.08it/s]"
     ]
    },
    {
     "name": "stdout",
     "output_type": "stream",
     "text": [
      "9\n",
      "9\n"
     ]
    },
    {
     "name": "stderr",
     "output_type": "stream",
     "text": [
      " 94%|█████████▍| 360/384 [00:56<00:05,  4.23it/s]"
     ]
    },
    {
     "name": "stdout",
     "output_type": "stream",
     "text": [
      "9\n",
      "9\n"
     ]
    },
    {
     "name": "stderr",
     "output_type": "stream",
     "text": [
      " 94%|█████████▍| 362/384 [00:57<00:04,  5.16it/s]"
     ]
    },
    {
     "name": "stdout",
     "output_type": "stream",
     "text": [
      "9\n",
      "9\n"
     ]
    },
    {
     "name": "stderr",
     "output_type": "stream",
     "text": [
      " 95%|█████████▍| 364/384 [00:57<00:03,  6.01it/s]"
     ]
    },
    {
     "name": "stdout",
     "output_type": "stream",
     "text": [
      "9\n",
      "9\n"
     ]
    },
    {
     "name": "stderr",
     "output_type": "stream",
     "text": [
      " 95%|█████████▌| 366/384 [00:57<00:02,  6.56it/s]"
     ]
    },
    {
     "name": "stdout",
     "output_type": "stream",
     "text": [
      "9\n",
      "9\n"
     ]
    },
    {
     "name": "stderr",
     "output_type": "stream",
     "text": [
      " 96%|█████████▌| 368/384 [00:58<00:02,  6.83it/s]"
     ]
    },
    {
     "name": "stdout",
     "output_type": "stream",
     "text": [
      "9\n",
      "9\n",
      "9\n"
     ]
    },
    {
     "name": "stderr",
     "output_type": "stream",
     "text": [
      " 96%|█████████▋| 370/384 [00:58<00:02,  6.84it/s]"
     ]
    },
    {
     "name": "stdout",
     "output_type": "stream",
     "text": [
      "9\n",
      "9\n",
      "9\n",
      "9\n"
     ]
    },
    {
     "name": "stderr",
     "output_type": "stream",
     "text": [
      " 97%|█████████▋| 372/384 [00:58<00:01,  7.08it/s]"
     ]
    },
    {
     "name": "stdout",
     "output_type": "stream",
     "text": [
      "9\n",
      "9\n",
      "9\n",
      "9\n"
     ]
    },
    {
     "name": "stderr",
     "output_type": "stream",
     "text": [
      " 97%|█████████▋| 374/384 [00:58<00:01,  7.34it/s]"
     ]
    },
    {
     "name": "stdout",
     "output_type": "stream",
     "text": [
      "9\n",
      "9\n",
      "9\n",
      "9\n"
     ]
    },
    {
     "name": "stderr",
     "output_type": "stream",
     "text": [
      " 98%|█████████▊| 376/384 [00:59<00:01,  7.47it/s]"
     ]
    },
    {
     "name": "stdout",
     "output_type": "stream",
     "text": [
      "9\n",
      "9\n"
     ]
    },
    {
     "name": "stderr",
     "output_type": "stream",
     "text": [
      "100%|██████████| 384/384 [01:01<00:00,  6.23it/s]\n",
      "IMAGEIO FFMPEG_WRITER WARNING: input image is not divisible by macro_block_size=16, resizing from (1800, 1200) to (1808, 1200) to ensure video compatibility with most codecs and players. To prevent resizing, make your input image divisible by the macro_block_size or set the macro_block_size to 1 (risking incompatibility).\n"
     ]
    }
   ],
   "source": [
    "plot_fn(env, state_seq, reward_seq, expand=True)"
   ]
  },
  {
   "cell_type": "markdown",
   "metadata": {},
   "source": [
    "# Bullet proof"
   ]
  },
  {
   "cell_type": "code",
   "execution_count": null,
   "metadata": {},
   "outputs": [],
   "source": []
  },
  {
   "cell_type": "code",
   "execution_count": 10,
   "metadata": {},
   "outputs": [
    {
     "name": "stderr",
     "output_type": "stream",
     "text": [
      "100%|██████████| 48/48 [00:00<00:00, 66.63it/s]\n",
      "100%|██████████| 48/48 [00:00<00:00, 67.13it/s]\n"
     ]
    },
    {
     "data": {
      "text/plain": [
       "[Array([], dtype=float32),\n",
       " Array([], dtype=float32),\n",
       " Array([], dtype=float32),\n",
       " Array([], dtype=float32),\n",
       " Array([], dtype=float32),\n",
       " Array([], dtype=float32),\n",
       " Array([], dtype=float32),\n",
       " Array([], dtype=float32),\n",
       " Array([], dtype=float32),\n",
       " Array([], dtype=float32),\n",
       " Array([], dtype=float32),\n",
       " Array([], dtype=float32),\n",
       " Array([], dtype=float32),\n",
       " Array([], dtype=float32),\n",
       " Array([], dtype=float32),\n",
       " Array([], dtype=float32),\n",
       " Array([], dtype=float32),\n",
       " Array([], dtype=float32),\n",
       " Array([], dtype=float32),\n",
       " Array([], dtype=float32),\n",
       " Array([], dtype=float32),\n",
       " Array([], dtype=float32),\n",
       " Array([], dtype=float32),\n",
       " Array([], dtype=float32),\n",
       " Array([], dtype=float32),\n",
       " Array([], dtype=float32),\n",
       " Array([], dtype=float32),\n",
       " Array([], dtype=float32),\n",
       " Array([[ 1.      ,  1.      , 13.      , 16.139389, 19.965769, 21.064068,\n",
       "         21.61848 ]], dtype=float32),\n",
       " Array([[ 2.      , 10.      ,  6.      , 18.466928, 18.552805, 13.438275,\n",
       "         15.700323]], dtype=float32),\n",
       " Array([], dtype=float32),\n",
       " Array([], dtype=float32),\n",
       " Array([], dtype=float32),\n",
       " Array([[ 1.      ,  1.      , 13.      , 18.204391, 22.030771, 22.639065,\n",
       "         21.61848 ]], dtype=float32),\n",
       " Array([], dtype=float32),\n",
       " Array([], dtype=float32),\n",
       " Array([], dtype=float32),\n",
       " Array([], dtype=float32),\n",
       " Array([], dtype=float32),\n",
       " Array([], dtype=float32),\n",
       " Array([], dtype=float32),\n",
       " Array([], dtype=float32),\n",
       " Array([[ 2.      ,  0.      , 14.      , 15.949139, 19.698248, 20.896488,\n",
       "         19.36551 ]], dtype=float32),\n",
       " Array([], dtype=float32),\n",
       " Array([[ 2.      ,  0.      , 14.      , 15.949139, 19.698248, 20.896488,\n",
       "         19.36551 ]], dtype=float32),\n",
       " Array([[ 2.      ,  0.      , 14.      , 15.949139, 19.698248, 20.896488,\n",
       "         19.36551 ],\n",
       "        [ 2.      ,  9.      ,  5.      , 21.24146 , 15.648466, 16.079874,\n",
       "         18.442514]], dtype=float32),\n",
       " Array([[ 2.      ,  0.      , 10.      , 15.949139, 19.698248, 19.258333,\n",
       "         18.603245],\n",
       "        [ 0.      , 10.      ,  6.      , 19.209251, 16.92082 , 13.720709,\n",
       "         17.645544]], dtype=float32),\n",
       " Array([], dtype=float32)]"
      ]
     },
     "execution_count": 10,
     "metadata": {},
     "output_type": "execute_result"
    }
   ],
   "source": [
    "bullet_fn(state_seq)"
   ]
  },
  {
   "cell_type": "code",
   "execution_count": null,
   "metadata": {},
   "outputs": [],
   "source": []
  }
 ],
 "metadata": {
  "kernelspec": {
   "display_name": "Python 3",
   "language": "python",
   "name": "python3"
  },
  "language_info": {
   "codemirror_mode": {
    "name": "ipython",
    "version": 3
   },
   "file_extension": ".py",
   "mimetype": "text/x-python",
   "name": "python",
   "nbconvert_exporter": "python",
   "pygments_lexer": "ipython3",
   "version": "3.11.7"
  }
 },
 "nbformat": 4,
 "nbformat_minor": 2
}
