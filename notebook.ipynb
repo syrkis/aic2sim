{
 "cells": [
  {
   "cell_type": "code",
   "execution_count": 37,
   "metadata": {},
   "outputs": [],
   "source": [
    "import jax\n",
    "from jax import numpy as jnp, jit\n",
    "from jaxmarl import make\n",
    "from jaxmarl.environments.smax import map_name_to_scenario\n",
    "\n",
    "import numpy as np\n",
    "from PIL import Image"
   ]
  },
  {
   "cell_type": "code",
   "execution_count": 38,
   "metadata": {},
   "outputs": [],
   "source": [
    "def traj(env, state, key, max_steps=2000):\n",
    "    state_seq = []\n",
    "    returns   = {a: 0 for a in env.agents}\n",
    "    for i in range(max_steps):\n",
    "        state_seq             += [state]\n",
    "        key, key_act, key_step = jax.random.split(key, 3)\n",
    "        key_act                = jnp.array(jax.random.split(key_act, len(env.agents)))\n",
    "        actions                = {agent: env.action_space(agent).sample(key_act[i]) for i, agent in enumerate(env.agents)}\n",
    "        obs, state, reward, done, infos = env.step(key_step, state, actions)\n",
    "        for agent in env.agents:\n",
    "            returns[agent] += reward[agent]\n",
    "        if done[\"__all__\"]:\n",
    "            break\n",
    "    return state_seq, returns"
   ]
  },
  {
   "cell_type": "code",
   "execution_count": 63,
   "metadata": {},
   "outputs": [],
   "source": [
    "def make_vtraj(config):\n",
    "    env = make(config['env'], **config['env_config'])\n",
    "    config['n_agents'] = env.num_agents * config['n_envs']\n",
    "\n",
    "    def init_runner_state(key):\n",
    "        key, key_reset = jax.random.split(key)\n",
    "        key_reset      = jax.random.split(key_reset, config['n_envs'])\n",
    "        obsv, state    = jax.vmap(env.reset)(key_reset)\n",
    "        return (state, obsv, key)\n",
    "\n",
    "    def env_step(runner_state, _):\n",
    "        env_state, last_obs, key = runner_state   # random key for sampling actions\n",
    "        key, key_act             = jax.random.split(key)\n",
    "\n",
    "        key_act = jax.random.split(key_act, config['n_agents']).reshape((env.num_agents, config['n_envs'], -1))\n",
    "        actions = {agent: jax.vmap(env.action_space(agent).sample)(key_act[i]) for i, agent in enumerate(env.agents)}\n",
    "\n",
    "        key, key_step = jax.random.split(key)\n",
    "        key_step      = jax.random.split(key_step, config['n_envs'])\n",
    "\n",
    "        obsv, env_state, _, _, infos = jax.vmap(env.step)(key_step, env_state, actions)\n",
    "        return (env_state, obsv, key), None  # (state, obsv, reward, done, infos)\n",
    "\n",
    "    def vtraj(key):\n",
    "        key, key_init = jax.random.split(key)\n",
    "        runner_state  = init_runner_state(key_init)\n",
    "        runner_state  = jax.lax.scan(env_step, runner_state, None, length=config['max_steps'])\n",
    "        return runner_state[0]\n",
    "\n",
    "    return vtraj\n"
   ]
  },
  {
   "cell_type": "code",
   "execution_count": 64,
   "metadata": {},
   "outputs": [],
   "source": [
    "key = jax.random.PRNGKey(0)\n",
    "config = {\"max_steps\": 2000, \"n_envs\": 100, \"env\": \"HeuristicEnemySMAX\", \"env_config\": {}}\n",
    "vtraj = jit(make_vtraj(config))\n",
    "runner_state = vtraj(key)"
   ]
  },
  {
   "cell_type": "code",
   "execution_count": 74,
   "metadata": {},
   "outputs": [
    {
     "data": {
      "text/plain": [
       "(100, 10, 2)"
      ]
     },
     "execution_count": 74,
     "metadata": {},
     "output_type": "execute_result"
    }
   ],
   "source": [
    "runner_state[0].state.unit_positions.shape"
   ]
  },
  {
   "cell_type": "code",
   "execution_count": null,
   "metadata": {},
   "outputs": [],
   "source": []
  }
 ],
 "metadata": {
  "kernelspec": {
   "display_name": "Python 3",
   "language": "python",
   "name": "python3"
  },
  "language_info": {
   "codemirror_mode": {
    "name": "ipython",
    "version": 3
   },
   "file_extension": ".py",
   "mimetype": "text/x-python",
   "name": "python",
   "nbconvert_exporter": "python",
   "pygments_lexer": "ipython3",
   "version": "3.11.7"
  }
 },
 "nbformat": 4,
 "nbformat_minor": 2
}
