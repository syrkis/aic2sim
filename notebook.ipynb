{
 "cells": [
  {
   "cell_type": "markdown",
   "metadata": {},
   "source": [
    "# C2SIM"
   ]
  },
  {
   "cell_type": "code",
   "execution_count": 41,
   "metadata": {},
   "outputs": [],
   "source": [
    "import jax\n",
    "import chex\n",
    "import ollama\n",
    "from jax import numpy as jnp, jit, vmap, random\n",
    "from jaxmarl import make\n",
    "from jaxmarl.environments.smax import map_name_to_scenario\n",
    "\n",
    "from einops import rearrange\n",
    "from functional import partial\n",
    "from tqdm import tqdm\n",
    "from typing import Callable, Any, Tuple, Dict, List\n",
    "import yaml\n",
    "\n",
    "from src import plot_fn"
   ]
  },
  {
   "cell_type": "code",
   "execution_count": 42,
   "metadata": {},
   "outputs": [],
   "source": [
    "# globals\n",
    "model = \"mistral:7b-instruct-q2_K\"\n",
    "n_envs = 100\n",
    "n_steps = 100\n",
    "scenario = \"3s5z_vs_3s6z\"\n",
    "num_allies = 10\n",
    "num_enemies = 10"
   ]
  },
  {
   "cell_type": "markdown",
   "metadata": {},
   "source": [
    "## behavior tree"
   ]
  },
  {
   "cell_type": "code",
   "execution_count": 44,
   "metadata": {},
   "outputs": [],
   "source": [
    "with open(\"data/bt.yaml\", \"r\") as f:\n",
    "    bt = yaml.load(f, Loader=yaml.FullLoader)"
   ]
  },
  {
   "cell_type": "code",
   "execution_count": 45,
   "metadata": {},
   "outputs": [],
   "source": [
    "@chex.dataclass\n",
    "class Status:\n",
    "    SUCCESS: int = 0\n",
    "    FAILURE: int = 1\n",
    "    RUNNING: int = 2"
   ]
  },
  {
   "cell_type": "code",
   "execution_count": 46,
   "metadata": {},
   "outputs": [],
   "source": [
    "# types\n",
    "NodeFunc = Callable[[Any], Tuple[Status, Any]]"
   ]
  },
  {
   "cell_type": "code",
   "execution_count": 47,
   "metadata": {},
   "outputs": [],
   "source": [
    "# Sequence node\n",
    "def sequence(children: List[NodeFunc]) -> NodeFunc:\n",
    "    def tick(state: Any) -> Tuple[Status, Any]:\n",
    "        for child in children:  # iterate over children (which are nodes themselves)\n",
    "            status, state = child(state)\n",
    "            if status != Status.SUCCESS:\n",
    "                return status, state\n",
    "        return Status.SUCCESS, state\n",
    "\n",
    "    return tick\n",
    "\n",
    "\n",
    "# Selector node\n",
    "def selector(children: List[NodeFunc]) -> NodeFunc:\n",
    "    def tick(state: Any) -> Tuple[Status, Any]:\n",
    "        for child in children:\n",
    "            status, state = child(state)\n",
    "            if status == Status.SUCCESS:\n",
    "                return status, state\n",
    "        return Status.FAILURE, state\n",
    "\n",
    "    return tick\n",
    "\n",
    "\n",
    "# Action node\n",
    "def action(fn: Callable) -> NodeFunc:\n",
    "    def tick(state: Any) -> Tuple[Status, Any]:\n",
    "        return fn(state), state\n",
    "\n",
    "    return tick"
   ]
  },
  {
   "cell_type": "code",
   "execution_count": 48,
   "metadata": {},
   "outputs": [
    {
     "data": {
      "text/plain": [
       "{'type': 'selector',\n",
       " 'children': [{'type': 'sequence',\n",
       "   'children': [{'type': 'action', 'name': 'go_left'}]},\n",
       "  {'type': 'action', 'name': 'wander'}]}"
      ]
     },
     "execution_count": 48,
     "metadata": {},
     "output_type": "execute_result"
    }
   ],
   "source": [
    "# Tree\n",
    "\n",
    "\n",
    "def tree(f_name: str) -> NodeFunc:\n",
    "    with open(f\"data/{f_name}.yaml\", \"r\") as f:\n",
    "        tree = yaml.load(f, Loader=yaml.FullLoader)\n",
    "\n",
    "    def build(node: Dict) -> NodeFunc:\n",
    "        if node[\"type\"] == \"sequence\":\n",
    "            return sequence([build(child) for child in node[\"children\"]])\n",
    "        elif node[\"type\"] == \"selector\":\n",
    "            return selector([build(child) for child in node[\"children\"]])\n",
    "        elif node[\"type\"] == \"action\" or node[\"type\"] == \"condition\":\n",
    "            return action(globals()[node[\"name\"]])  # a little hacky\n",
    "        elif node[\"type\"] == \"condition\":\n",
    "            return condition(globals()[node[\"name\"]])\n",
    "        else:\n",
    "            raise ValueError(f\"Unknown node type: {node['type']}\")\n",
    "\n",
    "    return build(tree)\n",
    "\n",
    "\n",
    "# Run\n",
    "tree(\"bt\")"
   ]
  },
  {
   "cell_type": "markdown",
   "metadata": {},
   "source": [
    "## language model"
   ]
  },
  {
   "cell_type": "code",
   "execution_count": null,
   "metadata": {},
   "outputs": [],
   "source": []
  },
  {
   "cell_type": "markdown",
   "metadata": {},
   "source": [
    "## smax trajectories"
   ]
  },
  {
   "cell_type": "code",
   "execution_count": 49,
   "metadata": {},
   "outputs": [],
   "source": [
    "def step_fn(rng, old_state_v, env, obs_v):  # take action and return state / reward info\n",
    "    rng, act_rng, step_rng = random.split(rng, 3)\n",
    "    act_keys = random.split(act_rng, env.num_agents * n_envs).reshape(-1, n_envs, 2)\n",
    "    step_keys = random.split(step_rng, n_envs)\n",
    "    # TODO: currently actions are taken in paralel across agents, but not with envs. fix?\n",
    "    acts = {a: act_fn(env, act_keys[i], obs_v[a], a) for i, a in enumerate(env.agents)}\n",
    "    obs_v, state_v, reward_v, _, _ = vmap(env.step)(step_keys, old_state_v, acts)\n",
    "    return obs_v, (rng, state_v), (step_keys, old_state_v, acts), reward_v\n",
    "\n",
    "\n",
    "@partial(vmap, in_axes=(None, 0, 0, None))  # actions for parallel copies of agent\n",
    "def act_fn(env, rng, obs, agent):  # take action for a given agent\n",
    "    return env.action_space(agent).sample(rng)\n",
    "\n",
    "\n",
    "def traj_fn(rng, env):  # runs parallel trajectories and returns state seqs.\n",
    "    rng, reset_rng = random.split(random.PRNGKey(0))\n",
    "    reset_keys = random.split(reset_rng, n_envs)\n",
    "    obs_v, state_v = vmap(env.reset)(reset_keys)\n",
    "    traj_state = (rng, state_v)\n",
    "    state_seq, reward_seq = [], []\n",
    "    for _ in tqdm(range(n_steps)):  # take n steps in env and append to lists\n",
    "        step = partial(step_fn, env=env, obs_v=obs_v)\n",
    "        obs_v, traj_state, state_v, reward_v = step(*traj_state)\n",
    "        state_seq, reward_seq = state_seq + [state_v], reward_seq + [reward_v]\n",
    "        # probe_fn(state_seq)\n",
    "    return state_seq, reward_seq"
   ]
  },
  {
   "cell_type": "code",
   "execution_count": 50,
   "metadata": {},
   "outputs": [
    {
     "name": "stderr",
     "output_type": "stream",
     "text": [
      "100%|██████████| 100/100 [00:04<00:00, 23.49it/s]\n"
     ]
    }
   ],
   "source": [
    "# scenario=map_name_to_scenario(scenario))  # TODO: allow HeuristicSMAX\n",
    "env = make(\"SMAX\", num_allies=num_allies, num_enemies=num_enemies)\n",
    "rng, key = random.split(random.PRNGKey(0))\n",
    "state_seq, reward_seq = traj_fn(key, env)\n",
    "# plot_fn(env, state_seq, reward_seq, expand=True)"
   ]
  },
  {
   "cell_type": "markdown",
   "metadata": {},
   "source": [
    "## language model"
   ]
  },
  {
   "cell_type": "code",
   "execution_count": null,
   "metadata": {},
   "outputs": [],
   "source": []
  }
 ],
 "metadata": {
  "kernelspec": {
   "display_name": "Python 3",
   "language": "python",
   "name": "python3"
  },
  "language_info": {
   "codemirror_mode": {
    "name": "ipython",
    "version": 3
   },
   "file_extension": ".py",
   "mimetype": "text/x-python",
   "name": "python",
   "nbconvert_exporter": "python",
   "pygments_lexer": "ipython3",
   "version": "3.11.7"
  }
 },
 "nbformat": 4,
 "nbformat_minor": 2
}
